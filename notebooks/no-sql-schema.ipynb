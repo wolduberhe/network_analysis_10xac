{
 "cells": [
  {
   "cell_type": "markdown",
   "id": "3f7f1fa8",
   "metadata": {},
   "source": [
    "# NOSQL schema to host slack messages"
   ]
  },
  {
   "cell_type": "code",
   "execution_count": null,
   "id": "99e4a112",
   "metadata": {},
   "outputs": [],
   "source": []
  },
  {
   "cell_type": "markdown",
   "id": "9fb7537c",
   "metadata": {},
   "source": [
    "# Messages Collection:\n",
    "Store general messages."
   ]
  },
  {
   "cell_type": "code",
   "execution_count": null,
   "id": "00c73f22",
   "metadata": {},
   "outputs": [],
   "source": [
    "{\n",
    "  \"_id\": ObjectId(\"65687b95d485420a27d08d7d\"),\n",
    "  \"type\": \"message\",\n",
    "  \"text\": \"I need help\",\n",
    "  \"files\": [\n",
    "    {\n",
    "      \"upload\": false\n",
    "    }\n",
    "  ],\n",
    "  \"user\": {\n",
    "    \"id\": \"U03UHB8CXDY\",\n",
    "    \"display_as_bot\": false\n",
    "  },\n",
    "  \"ts\": \"1661324564.397769\",\n",
    "  \"blocks\": [\n",
    "    {\n",
    "      \"client_msg_id\": \"fd236231-661c-4836-b311-0c1f56ee9586\",\n",
    "      \"thread_ts\": \"1661324564.397769\",\n",
    "      \"reply_count\": 3,\n",
    "      \"reply_users_count\": 3,\n",
    "      \"latest_reply\": \"1661325750.718809\"\n",
    "    }\n",
    "  ],\n",
    "  \"reply_users\": [\n",
    "    \"user_id_1\",\n",
    "    \"user_id_2\",\n",
    "    \"user_id_3\"\n",
    "  ],\n",
    "  \"replies\": [\n",
    "    {\n",
    "      \"is_locked\": false,\n",
    "      \"subscribed\": false\n",
    "    },\n",
    "    // Additional replies can go here...\n",
    "  ],\n",
    "  \"workspace_info\": {\n",
    "    \"workspace_id\": \"W01234567\",\n",
    "    \"workspace_name\": \"OtherWorkspace\"\n",
    "  }\n",
    "}\n"
   ]
  },
  {
   "cell_type": "code",
   "execution_count": null,
   "id": "0bca5b80",
   "metadata": {},
   "outputs": [],
   "source": []
  },
  {
   "cell_type": "markdown",
   "id": "903760d7",
   "metadata": {},
   "source": [
    "# UserInteractions Collection:\n",
    "Store interactions related to users, such as mentions or reactions."
   ]
  },
  {
   "cell_type": "code",
   "execution_count": null,
   "id": "3144706e",
   "metadata": {},
   "outputs": [],
   "source": [
    "{\n",
    "  \"_id\": ObjectId(\"interaction_id\"),\n",
    "  \"type\": \"user_interaction\",\n",
    "  \"user_id\": \"U03UHB8CXDY\",\n",
    "  \"interaction_type\": \"mention\",\n",
    "  \"timestamp\": ISODate(\"2023-01-01T12:01:00Z\"),\n",
    "  \"target_user_id\": \"target_user_id\",\n",
    "  \"channel_id\": \"channel_id\",\n",
    "  \"message_id\": \"message_id\"\n",
    "}\n"
   ]
  },
  {
   "cell_type": "code",
   "execution_count": null,
   "id": "71a42830",
   "metadata": {},
   "outputs": [],
   "source": []
  },
  {
   "cell_type": "markdown",
   "id": "66ac3e25",
   "metadata": {},
   "source": [
    "# ChannelInteractions Collection:\n",
    "Store interactions related to channels, such as when a channel is created or renamed."
   ]
  },
  {
   "cell_type": "code",
   "execution_count": null,
   "id": "edbf666a",
   "metadata": {},
   "outputs": [],
   "source": [
    "{\n",
    "  \"_id\": ObjectId(\"interaction_id\"),\n",
    "  \"type\": \"channel_interaction\",\n",
    "  \"user_id\": \"U03UHB8CXDY\",\n",
    "  \"interaction_type\": \"channel_created\",\n",
    "  \"timestamp\": ISODate(\"2023-01-01T12:02:00Z\"),\n",
    "  \"channel_id\": \"channel_id\",\n",
    "  \"details\": {\n",
    "    \"new_name\": \"new_channel_name\"\n",
    "  }\n",
    "}\n"
   ]
  }
 ],
 "metadata": {
  "kernelspec": {
   "display_name": "Python 3 (ipykernel)",
   "language": "python",
   "name": "python3"
  },
  "language_info": {
   "codemirror_mode": {
    "name": "ipython",
    "version": 3
   },
   "file_extension": ".py",
   "mimetype": "text/x-python",
   "name": "python",
   "nbconvert_exporter": "python",
   "pygments_lexer": "ipython3",
   "version": "3.11.5"
  }
 },
 "nbformat": 4,
 "nbformat_minor": 5
}
