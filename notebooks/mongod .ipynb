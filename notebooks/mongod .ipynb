{
 "cells": [
  {
   "cell_type": "markdown",
   "id": "51f00fd715d6d40c",
   "metadata": {},
   "source": [
    "[Documentation](https://pymongo.readthedocs.io/en/stable/tutorial.html)\n"
   ]
  },
  {
   "cell_type": "code",
   "execution_count": 1,
   "id": "e643732fe0e2efd8",
   "metadata": {
    "ExecuteTime": {
     "end_time": "2023-11-27T09:22:10.063608059Z",
     "start_time": "2023-11-27T09:22:09.736035918Z"
    }
   },
   "outputs": [],
   "source": [
    "from pymongo import MongoClient\n",
    "import json\n",
    "\n",
    "\n",
    "class DB:\n",
    "    def __init__(self):\n",
    "        self.client = MongoClient(\"mongodb://localhost:27017/\")\n",
    "        self.db = self.client[\"10Academy\"]\n",
    "\n",
    "    def list_collections(self):\n",
    "        # Returns collections inside the database\n",
    "        return self.db.list_collection_names()\n",
    "\n",
    "    def check_if_collection_exist(self, collection_name: str):\n",
    "        if not self.list_collections().__contains__(collection_name):\n",
    "            raise Exception(f\"Collection, {collection_name} not found.\")\n",
    "\n",
    "    def insert_to_collection(self, collection_name, data):\n",
    "        self.check_if_collection_exist(collection_name)\n",
    "        collection = self.db[collection_name]\n",
    "        return collection.insert_one(data)\n",
    "\n",
    "    def insert_many_to_collection(self, collection_name, data):\n",
    "        self.check_if_collection_exist(collection_name)\n",
    "        result = self.db[collection_name].insert_many(data)\n",
    "        return result.inserted_ids\n",
    "\n",
    "    def find_all(self, collection_name):\n",
    "        self.check_if_collection_exist(collection_name)\n",
    "        return self.db[collection_name].find()\n",
    "\n",
    "    def find(self, collection_name, key, value):\n",
    "        self.check_if_collection_exist(collection_name)\n",
    "        return self.db[collection_name].find({key: value})\n",
    "    \n",
    "    def find_by_id(self, collection_name, _id):\n",
    "        self.check_if_collection_exist(collection_name)\n",
    "        return self.db[collection_name].find\n",
    "\n",
    "    def find_one(self, collection_name, key, value):\n",
    "        self.check_if_collection_exist(collection_name)\n",
    "        return self.db[collection_name].find_one({key: value})\n"
   ]
  },
  {
   "cell_type": "code",
   "execution_count": 2,
   "id": "8c767a1c",
   "metadata": {},
   "outputs": [],
   "source": [
    "class DBWithSchema:\n",
    "    def __init__(self) -> None:\n",
    "        self.client = MongoClient(\"mongodb://localhost:27017/\")\n",
    "        self.db = self.client[\"10Academy1\"]\n",
    "\n",
    "        self.employee_validator = {\n",
    "            \"$jsonSchema\": {\n",
    "                \"bsonType\": \"object\",\n",
    "                \"required\": [\"name\", \"age\", \"company\"],\n",
    "                \"properties\": {\n",
    "                    \"name\": {\n",
    "                        \"bsonType\": \"string\",\n",
    "                        \"description\": \"must be a string and is required\"\n",
    "                    },\n",
    "                    \"age\": {\n",
    "                        \"bsonType\": \"number\",\n",
    "                        \"description\": \"must be an number and is required\"\n",
    "                    },\n",
    "                    \"company\": {\n",
    "                        \"bsonType\": \"objectId\",\n",
    "                        \"description\": \"must be an objectId and is required\"\n",
    "                    }\n",
    "                }\n",
    "            }\n",
    "        }\n",
    "        self.company_validator = {\n",
    "            \"$jsonSchema\": {\n",
    "                \"bsonType\": \"object\",\n",
    "                \"required\": [\"name\", \"country\", \"city\"],\n",
    "                \"properties\": {\n",
    "                    \"name\": {\n",
    "                        \"bsonType\": \"string\",\n",
    "                        \"description\": \"must be a string and is required\"\n",
    "                    },\n",
    "                    \"city\": {\n",
    "                        \"bsonType\": \"string\",\n",
    "                        \"description\": \"must be an string and is required\"\n",
    "                    },\n",
    "                    \"country\": {\n",
    "                        \"bsonType\": \"string\",\n",
    "                        \"description\": \"must be an string and is required\"\n",
    "                    }\n",
    "                }\n",
    "            }\n",
    "        }\n",
    "        try:\n",
    "            self.db.create_collection(\"employee\")\n",
    "            self.db.create_collection(\"company\")\n",
    "        except Exception as e:\n",
    "            print(e)\n",
    "\n",
    "        self.db.command(\"collMod\", \"employee\", validator=self.employee_validator)\n",
    "        self.db.command(\"collMod\", \"company\", validator=self.company_validator)\n",
    "\n",
    "    def list_collections(self):\n",
    "        return self.db.list_collection_names()\n",
    "    \n",
    "    def get_validation(self, collection_name: str) -> dict:\n",
    "        self.check_if_collection_exist(collection_name)\n",
    "        return self.db.get_collection(collection_name).options()\n",
    "    \n",
    "    def check_if_collection_exist(self, collection_name: str):\n",
    "        if not self.list_collections().__contains__(collection_name):\n",
    "            raise Exception(f\"Collection, {collection_name} not found.\")\n",
    "\n",
    "    def insert_to_collection(self, collection_name, data):\n",
    "        self.check_if_collection_exist(collection_name)\n",
    "        collection = self.db[collection_name]\n",
    "        return collection.insert_one(data)\n",
    "\n",
    "    def insert_many_to_collection(self, collection_name, data):\n",
    "        self.check_if_collection_exist(collection_name)\n",
    "        result = self.db[collection_name].insert_many(data)\n",
    "        return result.inserted_ids\n",
    "\n",
    "    def find_all(self, collection_name):\n",
    "        self.check_if_collection_exist(collection_name)\n",
    "        return self.db[collection_name].find()\n",
    "\n",
    "    def find(self, collection_name, key, value):\n",
    "        self.check_if_collection_exist(collection_name)\n",
    "        return self.db[collection_name].find({key: value})\n",
    "    \n",
    "    def find_by_id(self, collection_name, _id):\n",
    "        self.check_if_collection_exist(collection_name)\n",
    "        return self.db[collection_name].find\n",
    "\n",
    "    def find_one(self, collection_name, key, value):\n",
    "        self.check_if_collection_exist(collection_name)\n",
    "        return self.db[collection_name].find_one({key: value})\n",
    "    \n"
   ]
  },
  {
   "cell_type": "markdown",
   "id": "42edf846f8ff36b6",
   "metadata": {},
   "source": [
    "#### Initialize DB Class"
   ]
  },
  {
   "cell_type": "code",
   "execution_count": 3,
   "id": "initial_id",
   "metadata": {
    "ExecuteTime": {
     "end_time": "2023-11-27T09:22:10.102209282Z",
     "start_time": "2023-11-27T09:22:09.762921575Z"
    }
   },
   "outputs": [],
   "source": [
    "db = DB()"
   ]
  },
  {
   "cell_type": "markdown",
   "id": "67a77c0aa2951381",
   "metadata": {},
   "source": [
    "#### Get list of collections"
   ]
  },
  {
   "cell_type": "code",
   "execution_count": 4,
   "id": "1943d67b90ef5345",
   "metadata": {
    "ExecuteTime": {
     "end_time": "2023-11-27T09:22:10.139918225Z",
     "start_time": "2023-11-27T09:22:09.771118477Z"
    }
   },
   "outputs": [
    {
     "data": {
      "text/plain": [
       "['users',\n",
       " 'slack_data',\n",
       " 'all-week1-12',\n",
       " 'all_slack_data',\n",
       " 'all-week1',\n",
       " '10Academy']"
      ]
     },
     "execution_count": 4,
     "metadata": {},
     "output_type": "execute_result"
    }
   ],
   "source": [
    "db.list_collections()"
   ]
  },
  {
   "cell_type": "markdown",
   "id": "eff826746c1013d4",
   "metadata": {},
   "source": [
    "#### Insert record to collection"
   ]
  },
  {
   "cell_type": "code",
   "execution_count": 5,
   "id": "feda1ca67e1f08bf",
   "metadata": {
    "ExecuteTime": {
     "end_time": "2023-11-27T09:22:10.174968485Z",
     "start_time": "2023-11-27T09:22:09.840811255Z"
    }
   },
   "outputs": [
    {
     "name": "stdout",
     "output_type": "stream",
     "text": [
      "6569645e0cd82499b8959322\n"
     ]
    }
   ],
   "source": [
    "data = {\n",
    "    \"name\": \"John\"\n",
    "}\n",
    "inserted_record = db.insert_to_collection('users', data)\n",
    "print(inserted_record.inserted_id)\n"
   ]
  },
  {
   "cell_type": "markdown",
   "id": "a758e8de3c6b4947",
   "metadata": {},
   "source": [
    "#### Insert more than record to collection"
   ]
  },
  {
   "cell_type": "code",
   "execution_count": null,
   "id": "ca4588eb",
   "metadata": {},
   "outputs": [],
   "source": []
  },
  {
   "cell_type": "code",
   "execution_count": 6,
   "id": "e1613dd98803f815",
   "metadata": {
    "ExecuteTime": {
     "end_time": "2023-11-27T09:22:10.210845641Z",
     "start_time": "2023-11-27T09:22:09.841239357Z"
    }
   },
   "outputs": [
    {
     "name": "stdout",
     "output_type": "stream",
     "text": [
      "[ObjectId('6569645f0cd82499b8959323'), ObjectId('6569645f0cd82499b8959324')]\n"
     ]
    }
   ],
   "source": [
    "data = [{\n",
    "    \"name\": \"Tom\"\n",
    "},\n",
    "    {\n",
    "        \"name\": \"Jane\",\n",
    "        \"age\": 33\n",
    "}\n",
    "]\n",
    "inserted_records = db.insert_many_to_collection('users', data)\n",
    "print(inserted_records)"
   ]
  },
  {
   "cell_type": "markdown",
   "id": "e902fb63fe9eca24",
   "metadata": {},
   "source": [
    "#### Find All records from collection "
   ]
  },
  {
   "cell_type": "code",
   "execution_count": 7,
   "id": "cddcaee42da38732",
   "metadata": {
    "ExecuteTime": {
     "end_time": "2023-11-27T09:22:10.211491539Z",
     "start_time": "2023-11-27T09:22:09.863917702Z"
    }
   },
   "outputs": [
    {
     "name": "stdout",
     "output_type": "stream",
     "text": [
      "{'_id': ObjectId('6568390c91b7eef87183c52c'), 'name': 'John'}\n",
      "{'_id': ObjectId('6568392491b7eef87183c52d'), 'name': 'Tom'}\n",
      "{'_id': ObjectId('6568392491b7eef87183c52e'), 'age': 33, 'name': 'Jane'}\n",
      "{'_id': ObjectId('65686fd6d485420a27d08cfd'), 'name': 'John'}\n",
      "{'_id': ObjectId('65686fded485420a27d08cfe'), 'name': 'Tom'}\n",
      "{'_id': ObjectId('65686fded485420a27d08cff'), 'age': 33, 'name': 'Jane'}\n",
      "{'_id': ObjectId('6569645e0cd82499b8959322'), 'name': 'John'}\n",
      "{'_id': ObjectId('6569645f0cd82499b8959323'), 'name': 'Tom'}\n",
      "{'_id': ObjectId('6569645f0cd82499b8959324'), 'age': 33, 'name': 'Jane'}\n"
     ]
    }
   ],
   "source": [
    "import pprint\n",
    "\n",
    "records = db.find_all('users')\n",
    "for record in records:\n",
    "    pprint.pprint(record)"
   ]
  },
  {
   "cell_type": "markdown",
   "id": "f7f5cb0be2c22957",
   "metadata": {},
   "source": [
    "#### Filter record from collection"
   ]
  },
  {
   "cell_type": "code",
   "execution_count": 8,
   "id": "af345ea0ccb0bbfd",
   "metadata": {
    "ExecuteTime": {
     "end_time": "2023-11-27T09:22:10.215331714Z",
     "start_time": "2023-11-27T09:22:09.908992355Z"
    }
   },
   "outputs": [
    {
     "name": "stdout",
     "output_type": "stream",
     "text": [
      "{'_id': ObjectId('6568392491b7eef87183c52e'), 'age': 33, 'name': 'Jane'}\n",
      "{'_id': ObjectId('65686fded485420a27d08cff'), 'age': 33, 'name': 'Jane'}\n",
      "{'_id': ObjectId('6569645f0cd82499b8959324'), 'age': 33, 'name': 'Jane'}\n"
     ]
    }
   ],
   "source": [
    "results = db.find('users', 'name', 'Jane')\n",
    "for result in results:\n",
    "    pprint.pprint(result)"
   ]
  },
  {
   "cell_type": "code",
   "execution_count": 9,
   "id": "974526cb5e1ea0c4",
   "metadata": {
    "ExecuteTime": {
     "end_time": "2023-11-27T09:22:10.235289519Z",
     "start_time": "2023-11-27T09:22:09.909276711Z"
    }
   },
   "outputs": [],
   "source": [
    "results = db.find('users', 'name', 'Rix')\n",
    "for result in results:\n",
    "    pprint.pprint(result)"
   ]
  },
  {
   "cell_type": "markdown",
   "id": "43a0d42c731246ea",
   "metadata": {},
   "source": [
    "#### Find one from collection"
   ]
  },
  {
   "cell_type": "code",
   "execution_count": 10,
   "id": "6e65a86719e4dd5d",
   "metadata": {
    "ExecuteTime": {
     "end_time": "2023-11-27T09:23:09.020008428Z",
     "start_time": "2023-11-27T09:23:08.994515406Z"
    }
   },
   "outputs": [
    {
     "name": "stdout",
     "output_type": "stream",
     "text": [
      "{'_id': ObjectId('6568392491b7eef87183c52e'), 'age': 33, 'name': 'Jane'}\n"
     ]
    }
   ],
   "source": [
    "result = db.find_one('users', 'name', 'Jane')\n",
    "pprint.pprint(result)"
   ]
  },
  {
   "cell_type": "markdown",
   "id": "37a9ad04",
   "metadata": {},
   "source": [
    "#### Initialize DBWithSchemaClass"
   ]
  },
  {
   "cell_type": "code",
   "execution_count": 11,
   "id": "a44faa0420149106",
   "metadata": {},
   "outputs": [
    {
     "name": "stdout",
     "output_type": "stream",
     "text": [
      "collection employee already exists\n"
     ]
    }
   ],
   "source": [
    "db_with_schema = DBWithSchema()"
   ]
  },
  {
   "cell_type": "markdown",
   "id": "076a3b3c",
   "metadata": {},
   "source": [
    "#### View validators"
   ]
  },
  {
   "cell_type": "code",
   "execution_count": 12,
   "id": "d4f5c537",
   "metadata": {},
   "outputs": [
    {
     "name": "stdout",
     "output_type": "stream",
     "text": [
      "{'validationAction': 'error',\n",
      " 'validationLevel': 'strict',\n",
      " 'validator': {'$jsonSchema': {'bsonType': 'object',\n",
      "                               'properties': {'city': {'bsonType': 'string',\n",
      "                                                       'description': 'must be '\n",
      "                                                                      'an '\n",
      "                                                                      'string '\n",
      "                                                                      'and is '\n",
      "                                                                      'required'},\n",
      "                                              'country': {'bsonType': 'string',\n",
      "                                                          'description': 'must '\n",
      "                                                                         'be '\n",
      "                                                                         'an '\n",
      "                                                                         'string '\n",
      "                                                                         'and '\n",
      "                                                                         'is '\n",
      "                                                                         'required'},\n",
      "                                              'name': {'bsonType': 'string',\n",
      "                                                       'description': 'must be '\n",
      "                                                                      'a '\n",
      "                                                                      'string '\n",
      "                                                                      'and is '\n",
      "                                                                      'required'}},\n",
      "                               'required': ['name', 'country', 'city']}}}\n"
     ]
    }
   ],
   "source": [
    "import pprint\n",
    "company_validator = db_with_schema.get_validation('company')\n",
    "pprint.pprint(company_validator)"
   ]
  },
  {
   "cell_type": "code",
   "execution_count": 13,
   "id": "cc3e1f07",
   "metadata": {},
   "outputs": [
    {
     "name": "stdout",
     "output_type": "stream",
     "text": [
      "{'validationAction': 'error',\n",
      " 'validationLevel': 'strict',\n",
      " 'validator': {'$jsonSchema': {'bsonType': 'object',\n",
      "                               'properties': {'age': {'bsonType': 'number',\n",
      "                                                      'description': 'must be '\n",
      "                                                                     'an '\n",
      "                                                                     'number '\n",
      "                                                                     'and is '\n",
      "                                                                     'required'},\n",
      "                                              'company': {'bsonType': 'objectId',\n",
      "                                                          'description': 'must '\n",
      "                                                                         'be '\n",
      "                                                                         'an '\n",
      "                                                                         'objectId '\n",
      "                                                                         'and '\n",
      "                                                                         'is '\n",
      "                                                                         'required'},\n",
      "                                              'name': {'bsonType': 'string',\n",
      "                                                       'description': 'must be '\n",
      "                                                                      'a '\n",
      "                                                                      'string '\n",
      "                                                                      'and is '\n",
      "                                                                      'required'}},\n",
      "                               'required': ['name', 'age', 'company']}}}\n"
     ]
    }
   ],
   "source": [
    "employee_validator = db_with_schema.get_validation('employee')\n",
    "pprint.pprint(employee_validator)"
   ]
  },
  {
   "cell_type": "markdown",
   "id": "59dc048c",
   "metadata": {},
   "source": [
    "#### Create Company"
   ]
  },
  {
   "cell_type": "code",
   "execution_count": 14,
   "id": "3240bb1a",
   "metadata": {},
   "outputs": [
    {
     "name": "stdout",
     "output_type": "stream",
     "text": [
      "[ObjectId('656964690cd82499b8959326'), ObjectId('656964690cd82499b8959327')]\n"
     ]
    }
   ],
   "source": [
    "company_data = [\n",
    "  {\n",
    "    \"name\": \"Mercedes-Benz\",\n",
    "    \"city\": \"Stuttgart\",\n",
    "    \"country\": \"Germany\"\n",
    "  },\n",
    "  {\n",
    "    \"name\": \"Chevrolet\",\n",
    "    \"city\": \"Detroit\",\n",
    "    \"country\": \"United States\"\n",
    "  }\n",
    "]\n",
    "inserted_records = db_with_schema.insert_many_to_collection('company', company_data)\n",
    "print(inserted_records)"
   ]
  },
  {
   "cell_type": "code",
   "execution_count": 15,
   "id": "22bedf96",
   "metadata": {},
   "outputs": [
    {
     "name": "stdout",
     "output_type": "stream",
     "text": [
      "[ObjectId('6569646a0cd82499b8959328'), ObjectId('6569646a0cd82499b8959329'), ObjectId('6569646a0cd82499b895932a'), ObjectId('6569646a0cd82499b895932b')]\n"
     ]
    }
   ],
   "source": [
    "employee_data = [\n",
    "  {\n",
    "    \"name\": \"Jane\",\n",
    "    \"age\": 24,\n",
    "    \"company\": inserted_records[0]\n",
    "  },\n",
    "  {\n",
    "    \"name\": \"John\",\n",
    "    \"age\": 26,\n",
    "    \"company\": inserted_records[1]\n",
    "  },\n",
    "  {\n",
    "    \"name\": \"Amy\",\n",
    "    \"age\": 23,\n",
    "    \"company\": inserted_records[1]\n",
    "  },\n",
    "  {\n",
    "    \"name\": \"Jack\",\n",
    "    \"age\": 22,\n",
    "    \"company\": inserted_records[0]\n",
    "  },\n",
    "]\n",
    "inserted_employees = db_with_schema.insert_many_to_collection('employee', employee_data)\n",
    "print(inserted_employees)"
   ]
  },
  {
   "cell_type": "markdown",
   "id": "4d71c56b",
   "metadata": {},
   "source": [
    "#### Select all Employees"
   ]
  },
  {
   "cell_type": "code",
   "execution_count": 16,
   "id": "76099a40",
   "metadata": {},
   "outputs": [
    {
     "name": "stdout",
     "output_type": "stream",
     "text": [
      "{'_id': ObjectId('6568395b91b7eef87183c532'),\n",
      " 'age': 24,\n",
      " 'company': ObjectId('6568395a91b7eef87183c530'),\n",
      " 'name': 'Jane'}\n",
      "{'_id': ObjectId('6568395b91b7eef87183c533'),\n",
      " 'age': 26,\n",
      " 'company': ObjectId('6568395a91b7eef87183c531'),\n",
      " 'name': 'John'}\n",
      "{'_id': ObjectId('6568395b91b7eef87183c534'),\n",
      " 'age': 23,\n",
      " 'company': ObjectId('6568395a91b7eef87183c531'),\n",
      " 'name': 'Amy'}\n",
      "{'_id': ObjectId('6568395b91b7eef87183c535'),\n",
      " 'age': 22,\n",
      " 'company': ObjectId('6568395a91b7eef87183c530'),\n",
      " 'name': 'Jack'}\n",
      "{'_id': ObjectId('65687016d485420a27d08d03'),\n",
      " 'age': 24,\n",
      " 'company': ObjectId('65687015d485420a27d08d01'),\n",
      " 'name': 'Jane'}\n",
      "{'_id': ObjectId('65687016d485420a27d08d04'),\n",
      " 'age': 26,\n",
      " 'company': ObjectId('65687015d485420a27d08d02'),\n",
      " 'name': 'John'}\n",
      "{'_id': ObjectId('65687016d485420a27d08d05'),\n",
      " 'age': 23,\n",
      " 'company': ObjectId('65687015d485420a27d08d02'),\n",
      " 'name': 'Amy'}\n",
      "{'_id': ObjectId('65687016d485420a27d08d06'),\n",
      " 'age': 22,\n",
      " 'company': ObjectId('65687015d485420a27d08d01'),\n",
      " 'name': 'Jack'}\n",
      "{'_id': ObjectId('6569646a0cd82499b8959328'),\n",
      " 'age': 24,\n",
      " 'company': ObjectId('656964690cd82499b8959326'),\n",
      " 'name': 'Jane'}\n",
      "{'_id': ObjectId('6569646a0cd82499b8959329'),\n",
      " 'age': 26,\n",
      " 'company': ObjectId('656964690cd82499b8959327'),\n",
      " 'name': 'John'}\n",
      "{'_id': ObjectId('6569646a0cd82499b895932a'),\n",
      " 'age': 23,\n",
      " 'company': ObjectId('656964690cd82499b8959327'),\n",
      " 'name': 'Amy'}\n",
      "{'_id': ObjectId('6569646a0cd82499b895932b'),\n",
      " 'age': 22,\n",
      " 'company': ObjectId('656964690cd82499b8959326'),\n",
      " 'name': 'Jack'}\n"
     ]
    }
   ],
   "source": [
    "import pprint\n",
    "\n",
    "employees = db_with_schema.find_all('employee')\n",
    "for employee in employees:\n",
    "    pprint.pprint(employee)"
   ]
  },
  {
   "cell_type": "markdown",
   "id": "85c56722",
   "metadata": {},
   "source": [
    "#### Look UP"
   ]
  },
  {
   "cell_type": "code",
   "execution_count": 17,
   "id": "cf62050e",
   "metadata": {},
   "outputs": [
    {
     "name": "stdout",
     "output_type": "stream",
     "text": [
      "{'_id': ObjectId('6568395a91b7eef87183c530'),\n",
      " 'city': 'Stuttgart',\n",
      " 'country': 'Germany',\n",
      " 'employees': [{'_id': ObjectId('6568395b91b7eef87183c532'),\n",
      "                'age': 24,\n",
      "                'company': ObjectId('6568395a91b7eef87183c530'),\n",
      "                'name': 'Jane'},\n",
      "               {'_id': ObjectId('6568395b91b7eef87183c535'),\n",
      "                'age': 22,\n",
      "                'company': ObjectId('6568395a91b7eef87183c530'),\n",
      "                'name': 'Jack'}],\n",
      " 'name': 'Mercedes-Benz'}\n",
      "{'_id': ObjectId('6568395a91b7eef87183c531'),\n",
      " 'city': 'Detroit',\n",
      " 'country': 'United States',\n",
      " 'employees': [{'_id': ObjectId('6568395b91b7eef87183c533'),\n",
      "                'age': 26,\n",
      "                'company': ObjectId('6568395a91b7eef87183c531'),\n",
      "                'name': 'John'},\n",
      "               {'_id': ObjectId('6568395b91b7eef87183c534'),\n",
      "                'age': 23,\n",
      "                'company': ObjectId('6568395a91b7eef87183c531'),\n",
      "                'name': 'Amy'}],\n",
      " 'name': 'Chevrolet'}\n",
      "{'_id': ObjectId('65687015d485420a27d08d01'),\n",
      " 'city': 'Stuttgart',\n",
      " 'country': 'Germany',\n",
      " 'employees': [{'_id': ObjectId('65687016d485420a27d08d03'),\n",
      "                'age': 24,\n",
      "                'company': ObjectId('65687015d485420a27d08d01'),\n",
      "                'name': 'Jane'},\n",
      "               {'_id': ObjectId('65687016d485420a27d08d06'),\n",
      "                'age': 22,\n",
      "                'company': ObjectId('65687015d485420a27d08d01'),\n",
      "                'name': 'Jack'}],\n",
      " 'name': 'Mercedes-Benz'}\n",
      "{'_id': ObjectId('65687015d485420a27d08d02'),\n",
      " 'city': 'Detroit',\n",
      " 'country': 'United States',\n",
      " 'employees': [{'_id': ObjectId('65687016d485420a27d08d04'),\n",
      "                'age': 26,\n",
      "                'company': ObjectId('65687015d485420a27d08d02'),\n",
      "                'name': 'John'},\n",
      "               {'_id': ObjectId('65687016d485420a27d08d05'),\n",
      "                'age': 23,\n",
      "                'company': ObjectId('65687015d485420a27d08d02'),\n",
      "                'name': 'Amy'}],\n",
      " 'name': 'Chevrolet'}\n",
      "{'_id': ObjectId('656964690cd82499b8959326'),\n",
      " 'city': 'Stuttgart',\n",
      " 'country': 'Germany',\n",
      " 'employees': [{'_id': ObjectId('6569646a0cd82499b8959328'),\n",
      "                'age': 24,\n",
      "                'company': ObjectId('656964690cd82499b8959326'),\n",
      "                'name': 'Jane'},\n",
      "               {'_id': ObjectId('6569646a0cd82499b895932b'),\n",
      "                'age': 22,\n",
      "                'company': ObjectId('656964690cd82499b8959326'),\n",
      "                'name': 'Jack'}],\n",
      " 'name': 'Mercedes-Benz'}\n",
      "{'_id': ObjectId('656964690cd82499b8959327'),\n",
      " 'city': 'Detroit',\n",
      " 'country': 'United States',\n",
      " 'employees': [{'_id': ObjectId('6569646a0cd82499b8959329'),\n",
      "                'age': 26,\n",
      "                'company': ObjectId('656964690cd82499b8959327'),\n",
      "                'name': 'John'},\n",
      "               {'_id': ObjectId('6569646a0cd82499b895932a'),\n",
      "                'age': 23,\n",
      "                'company': ObjectId('656964690cd82499b8959327'),\n",
      "                'name': 'Amy'}],\n",
      " 'name': 'Chevrolet'}\n"
     ]
    }
   ],
   "source": [
    "lookup = [\n",
    "    {\n",
    "        \"$lookup\": {\n",
    "            \"from\": \"employee\",\n",
    "            \"localField\": \"_id\",\n",
    "            \"foreignField\": \"company\",\n",
    "            \"as\": \"employees\"\n",
    "        }\n",
    "    }\n",
    "]\n",
    "employees_with_company = db_with_schema.db.company.aggregate(lookup)\n",
    "employees_list = list(employees_with_company)\n",
    "for employee in employees_list:\n",
    "    pprint.pprint(employee)"
   ]
  },
  {
   "cell_type": "code",
   "execution_count": null,
   "id": "d5ee3446",
   "metadata": {},
   "outputs": [],
   "source": []
  },
  {
   "cell_type": "code",
   "execution_count": null,
   "id": "a8bb88d8",
   "metadata": {},
   "outputs": [],
   "source": []
  },
  {
   "cell_type": "code",
   "execution_count": null,
   "id": "85cf5a25",
   "metadata": {},
   "outputs": [],
   "source": []
  },
  {
   "cell_type": "code",
   "execution_count": null,
   "id": "e2f49324",
   "metadata": {},
   "outputs": [],
   "source": []
  },
  {
   "cell_type": "markdown",
   "id": "10502f9f",
   "metadata": {},
   "source": [
    "importing json folder messages in to mongodb"
   ]
  },
  {
   "cell_type": "code",
   "execution_count": 29,
   "id": "91f72e3c",
   "metadata": {},
   "outputs": [
    {
     "name": "stdout",
     "output_type": "stream",
     "text": [
      "Inserted IDs: [ObjectId('656964ec0cd82499b895a340'), ObjectId('656964ec0cd82499b895a341'), ObjectId('656964ec0cd82499b895a342'), ObjectId('656964ec0cd82499b895a343'), ObjectId('656964ec0cd82499b895a344'), ObjectId('656964ec0cd82499b895a345'), ObjectId('656964ec0cd82499b895a346'), ObjectId('656964ec0cd82499b895a347'), ObjectId('656964ec0cd82499b895a348'), ObjectId('656964ec0cd82499b895a349'), ObjectId('656964ec0cd82499b895a34a'), ObjectId('656964ec0cd82499b895a34b'), ObjectId('656964ec0cd82499b895a34c'), ObjectId('656964ec0cd82499b895a34d'), ObjectId('656964ec0cd82499b895a34e'), ObjectId('656964ec0cd82499b895a34f'), ObjectId('656964ec0cd82499b895a350'), ObjectId('656964ec0cd82499b895a351'), ObjectId('656964ec0cd82499b895a352'), ObjectId('656964ec0cd82499b895a353'), ObjectId('656964ec0cd82499b895a354'), ObjectId('656964ec0cd82499b895a355'), ObjectId('656964ec0cd82499b895a356'), ObjectId('656964ec0cd82499b895a357'), ObjectId('656964ec0cd82499b895a358'), ObjectId('656964ec0cd82499b895a359'), ObjectId('656964ec0cd82499b895a35a'), ObjectId('656964ec0cd82499b895a35b'), ObjectId('656964ec0cd82499b895a35c'), ObjectId('656964ec0cd82499b895a35d'), ObjectId('656964ec0cd82499b895a35e'), ObjectId('656964ec0cd82499b895a35f'), ObjectId('656964ec0cd82499b895a360'), ObjectId('656964ec0cd82499b895a361'), ObjectId('656964ec0cd82499b895a362'), ObjectId('656964ec0cd82499b895a363'), ObjectId('656964ec0cd82499b895a364'), ObjectId('656964ec0cd82499b895a365'), ObjectId('656964ec0cd82499b895a366'), ObjectId('656964ec0cd82499b895a367'), ObjectId('656964ec0cd82499b895a368'), ObjectId('656964ec0cd82499b895a369'), ObjectId('656964ec0cd82499b895a36a'), ObjectId('656964ec0cd82499b895a36b'), ObjectId('656964ec0cd82499b895a36c'), ObjectId('656964ec0cd82499b895a36d'), ObjectId('656964ec0cd82499b895a36e'), ObjectId('656964ec0cd82499b895a36f'), ObjectId('656964ec0cd82499b895a370'), ObjectId('656964ec0cd82499b895a371'), ObjectId('656964ec0cd82499b895a372'), ObjectId('656964ec0cd82499b895a373'), ObjectId('656964ec0cd82499b895a374'), ObjectId('656964ec0cd82499b895a375'), ObjectId('656964ec0cd82499b895a376'), ObjectId('656964ec0cd82499b895a377'), ObjectId('656964ec0cd82499b895a378'), ObjectId('656964ec0cd82499b895a379'), ObjectId('656964ec0cd82499b895a37a'), ObjectId('656964ec0cd82499b895a37b'), ObjectId('656964ec0cd82499b895a37c'), ObjectId('656964ec0cd82499b895a37d'), ObjectId('656964ec0cd82499b895a37e'), ObjectId('656964ec0cd82499b895a37f'), ObjectId('656964ec0cd82499b895a380'), ObjectId('656964ec0cd82499b895a381'), ObjectId('656964ec0cd82499b895a382'), ObjectId('656964ec0cd82499b895a383'), ObjectId('656964ec0cd82499b895a384'), ObjectId('656964ec0cd82499b895a385'), ObjectId('656964ec0cd82499b895a386'), ObjectId('656964ec0cd82499b895a387'), ObjectId('656964ec0cd82499b895a388'), ObjectId('656964ec0cd82499b895a389'), ObjectId('656964ec0cd82499b895a38a'), ObjectId('656964ec0cd82499b895a38b'), ObjectId('656964ec0cd82499b895a38c'), ObjectId('656964ec0cd82499b895a38d'), ObjectId('656964ec0cd82499b895a38e'), ObjectId('656964ec0cd82499b895a38f'), ObjectId('656964ec0cd82499b895a390'), ObjectId('656964ec0cd82499b895a391'), ObjectId('656964ec0cd82499b895a392'), ObjectId('656964ec0cd82499b895a393'), ObjectId('656964ec0cd82499b895a394'), ObjectId('656964ec0cd82499b895a395'), ObjectId('656964ec0cd82499b895a396'), ObjectId('656964ec0cd82499b895a397'), ObjectId('656964ec0cd82499b895a398'), ObjectId('656964ec0cd82499b895a399'), ObjectId('656964ec0cd82499b895a39a'), ObjectId('656964ec0cd82499b895a39b'), ObjectId('656964ec0cd82499b895a39c'), ObjectId('656964ec0cd82499b895a39d'), ObjectId('656964ec0cd82499b895a39e'), ObjectId('656964ec0cd82499b895a39f'), ObjectId('656964ec0cd82499b895a3a0'), ObjectId('656964ec0cd82499b895a3a1'), ObjectId('656964ec0cd82499b895a3a2'), ObjectId('656964ec0cd82499b895a3a3'), ObjectId('656964ec0cd82499b895a3a4'), ObjectId('656964ec0cd82499b895a3a5'), ObjectId('656964ec0cd82499b895a3a6'), ObjectId('656964ec0cd82499b895a3a7'), ObjectId('656964ec0cd82499b895a3a8'), ObjectId('656964ec0cd82499b895a3a9'), ObjectId('656964ec0cd82499b895a3aa'), ObjectId('656964ec0cd82499b895a3ab'), ObjectId('656964ec0cd82499b895a3ac'), ObjectId('656964ec0cd82499b895a3ad'), ObjectId('656964ec0cd82499b895a3ae'), ObjectId('656964ec0cd82499b895a3af'), ObjectId('656964ec0cd82499b895a3b0'), ObjectId('656964ec0cd82499b895a3b1'), ObjectId('656964ec0cd82499b895a3b2'), ObjectId('656964ec0cd82499b895a3b3'), ObjectId('656964ec0cd82499b895a3b4'), ObjectId('656964ec0cd82499b895a3b5'), ObjectId('656964ec0cd82499b895a3b6'), ObjectId('656964ec0cd82499b895a3b7'), ObjectId('656964ec0cd82499b895a3b8'), ObjectId('656964ec0cd82499b895a3b9'), ObjectId('656964ec0cd82499b895a3ba'), ObjectId('656964ec0cd82499b895a3bb'), ObjectId('656964ec0cd82499b895a3bc')]\n"
     ]
    }
   ],
   "source": [
    "import os\n",
    "\n",
    "def import_data_from_json(db, collection_name, json_folder):\n",
    "    \"\"\"\n",
    "    Import data from JSON files in a folder into the specified collection.\n",
    "\n",
    "    Parameters:\n",
    "    - db (pymongo.database.Database): The MongoDB database object.\n",
    "    - collection_name (str): The name of the MongoDB collection.\n",
    "    - json_folder (str): The path to the folder containing JSON files.\n",
    "\n",
    "    Returns:\n",
    "    - list: List of inserted document IDs.\n",
    "    \"\"\"\n",
    "    # List all JSON files in the folder\n",
    "    json_files = [f for f in os.listdir(json_folder) if f.endswith('.json')]\n",
    "\n",
    "    # List to store inserted document IDs\n",
    "    inserted_ids_list = []\n",
    "\n",
    "    # Iterate over JSON files\n",
    "    for json_file in json_files:\n",
    "        # Construct the full path to the JSON file\n",
    "        json_file_path = os.path.join(json_folder, json_file)\n",
    "\n",
    "        # Read data from the JSON file\n",
    "        with open(json_file_path, 'r') as file:\n",
    "            data = json.load(file)\n",
    "\n",
    "        # Insert data into the collection\n",
    "        result = db[collection_name].insert_many(data)\n",
    "\n",
    "        # Add inserted document IDs to the list\n",
    "        inserted_ids_list.extend(result.inserted_ids)\n",
    "\n",
    "    return inserted_ids_list\n",
    "\n",
    "# Connect to the local MongoDB instance\n",
    "client = MongoClient(\"mongodb://localhost:27017/\")\n",
    "\n",
    "# Choose or create a database\n",
    "db = client[\"10Academy\"]\n",
    "\n",
    "# Specify the collection name\n",
    "collection_name = \"all-week1-12\"\n",
    "\n",
    "# Specify the path to the folder containing JSON files\n",
    "json_folder_path =  '../data/all-week12'\n",
    "\n",
    "# Import data from JSON files in the folder\n",
    "inserted_ids = import_data_from_json(db, collection_name, json_folder_path)\n",
    "\n",
    "# Print the inserted document IDs\n",
    "print(\"Inserted IDs:\", inserted_ids)\n",
    "\n",
    "# Close the MongoDB connection\n",
    "client.close()\n"
   ]
  },
  {
   "cell_type": "code",
   "execution_count": null,
   "id": "0597843b",
   "metadata": {},
   "outputs": [],
   "source": []
  }
 ],
 "metadata": {
  "kernelspec": {
   "display_name": "Python 3 (ipykernel)",
   "language": "python",
   "name": "python3"
  },
  "language_info": {
   "codemirror_mode": {
    "name": "ipython",
    "version": 3
   },
   "file_extension": ".py",
   "mimetype": "text/x-python",
   "name": "python",
   "nbconvert_exporter": "python",
   "pygments_lexer": "ipython3",
   "version": "3.11.5"
  }
 },
 "nbformat": 4,
 "nbformat_minor": 5
}
