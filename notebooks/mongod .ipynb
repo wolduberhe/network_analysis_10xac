{
 "cells": [
  {
   "cell_type": "markdown",
   "id": "51f00fd715d6d40c",
   "metadata": {},
   "source": [
    "[Documentation](https://pymongo.readthedocs.io/en/stable/tutorial.html)\n"
   ]
  },
  {
   "cell_type": "code",
   "execution_count": 1,
   "id": "e643732fe0e2efd8",
   "metadata": {
    "ExecuteTime": {
     "end_time": "2023-11-27T09:22:10.063608059Z",
     "start_time": "2023-11-27T09:22:09.736035918Z"
    }
   },
   "outputs": [],
   "source": [
    "from pymongo import MongoClient\n",
    "import json\n",
    "\n",
    "\n",
    "class DB:\n",
    "    def __init__(self):\n",
    "        self.client = MongoClient(\"mongodb://localhost:27017/\")\n",
    "        self.db = self.client[\"10Academy\"]\n",
    "\n",
    "    def list_collections(self):\n",
    "        # Returns collections inside the database\n",
    "        return self.db.list_collection_names()\n",
    "\n",
    "    def check_if_collection_exist(self, collection_name: str):\n",
    "        if not self.list_collections().__contains__(collection_name):\n",
    "            raise Exception(f\"Collection, {collection_name} not found.\")\n",
    "\n",
    "    def insert_to_collection(self, collection_name, data):\n",
    "        self.check_if_collection_exist(collection_name)\n",
    "        collection = self.db[collection_name]\n",
    "        return collection.insert_one(data)\n",
    "\n",
    "    def insert_many_to_collection(self, collection_name, data):\n",
    "        self.check_if_collection_exist(collection_name)\n",
    "        result = self.db[collection_name].insert_many(data)\n",
    "        return result.inserted_ids\n",
    "\n",
    "    def find_all(self, collection_name):\n",
    "        self.check_if_collection_exist(collection_name)\n",
    "        return self.db[collection_name].find()\n",
    "\n",
    "    def find(self, collection_name, key, value):\n",
    "        self.check_if_collection_exist(collection_name)\n",
    "        return self.db[collection_name].find({key: value})\n",
    "    \n",
    "    def find_by_id(self, collection_name, _id):\n",
    "        self.check_if_collection_exist(collection_name)\n",
    "        return self.db[collection_name].find\n",
    "\n",
    "    def find_one(self, collection_name, key, value):\n",
    "        self.check_if_collection_exist(collection_name)\n",
    "        return self.db[collection_name].find_one({key: value})\n"
   ]
  },
  {
   "cell_type": "code",
   "execution_count": 2,
   "id": "8c767a1c",
   "metadata": {},
   "outputs": [],
   "source": [
    "class DBWithSchema:\n",
    "    def __init__(self) -> None:\n",
    "        self.client = MongoClient(\"mongodb://localhost:27017/\")\n",
    "        self.db = self.client[\"10Academy1\"]\n",
    "\n",
    "        self.employee_validator = {\n",
    "            \"$jsonSchema\": {\n",
    "                \"bsonType\": \"object\",\n",
    "                \"required\": [\"name\", \"age\", \"company\"],\n",
    "                \"properties\": {\n",
    "                    \"name\": {\n",
    "                        \"bsonType\": \"string\",\n",
    "                        \"description\": \"must be a string and is required\"\n",
    "                    },\n",
    "                    \"age\": {\n",
    "                        \"bsonType\": \"number\",\n",
    "                        \"description\": \"must be an number and is required\"\n",
    "                    },\n",
    "                    \"company\": {\n",
    "                        \"bsonType\": \"objectId\",\n",
    "                        \"description\": \"must be an objectId and is required\"\n",
    "                    }\n",
    "                }\n",
    "            }\n",
    "        }\n",
    "        self.company_validator = {\n",
    "            \"$jsonSchema\": {\n",
    "                \"bsonType\": \"object\",\n",
    "                \"required\": [\"name\", \"country\", \"city\"],\n",
    "                \"properties\": {\n",
    "                    \"name\": {\n",
    "                        \"bsonType\": \"string\",\n",
    "                        \"description\": \"must be a string and is required\"\n",
    "                    },\n",
    "                    \"city\": {\n",
    "                        \"bsonType\": \"string\",\n",
    "                        \"description\": \"must be an string and is required\"\n",
    "                    },\n",
    "                    \"country\": {\n",
    "                        \"bsonType\": \"string\",\n",
    "                        \"description\": \"must be an string and is required\"\n",
    "                    }\n",
    "                }\n",
    "            }\n",
    "        }\n",
    "        try:\n",
    "            self.db.create_collection(\"employee\")\n",
    "            self.db.create_collection(\"company\")\n",
    "        except Exception as e:\n",
    "            print(e)\n",
    "\n",
    "        self.db.command(\"collMod\", \"employee\", validator=self.employee_validator)\n",
    "        self.db.command(\"collMod\", \"company\", validator=self.company_validator)\n",
    "\n",
    "    def list_collections(self):\n",
    "        return self.db.list_collection_names()\n",
    "    \n",
    "    def get_validation(self, collection_name: str) -> dict:\n",
    "        self.check_if_collection_exist(collection_name)\n",
    "        return self.db.get_collection(collection_name).options()\n",
    "    \n",
    "    def check_if_collection_exist(self, collection_name: str):\n",
    "        if not self.list_collections().__contains__(collection_name):\n",
    "            raise Exception(f\"Collection, {collection_name} not found.\")\n",
    "\n",
    "    def insert_to_collection(self, collection_name, data):\n",
    "        self.check_if_collection_exist(collection_name)\n",
    "        collection = self.db[collection_name]\n",
    "        return collection.insert_one(data)\n",
    "\n",
    "    def insert_many_to_collection(self, collection_name, data):\n",
    "        self.check_if_collection_exist(collection_name)\n",
    "        result = self.db[collection_name].insert_many(data)\n",
    "        return result.inserted_ids\n",
    "\n",
    "    def find_all(self, collection_name):\n",
    "        self.check_if_collection_exist(collection_name)\n",
    "        return self.db[collection_name].find()\n",
    "\n",
    "    def find(self, collection_name, key, value):\n",
    "        self.check_if_collection_exist(collection_name)\n",
    "        return self.db[collection_name].find({key: value})\n",
    "    \n",
    "    def find_by_id(self, collection_name, _id):\n",
    "        self.check_if_collection_exist(collection_name)\n",
    "        return self.db[collection_name].find\n",
    "\n",
    "    def find_one(self, collection_name, key, value):\n",
    "        self.check_if_collection_exist(collection_name)\n",
    "        return self.db[collection_name].find_one({key: value})\n",
    "    \n"
   ]
  },
  {
   "cell_type": "markdown",
   "id": "42edf846f8ff36b6",
   "metadata": {},
   "source": [
    "#### Initialize DB Class"
   ]
  },
  {
   "cell_type": "code",
   "execution_count": 3,
   "id": "initial_id",
   "metadata": {
    "ExecuteTime": {
     "end_time": "2023-11-27T09:22:10.102209282Z",
     "start_time": "2023-11-27T09:22:09.762921575Z"
    }
   },
   "outputs": [],
   "source": [
    "db = DB()"
   ]
  },
  {
   "cell_type": "markdown",
   "id": "67a77c0aa2951381",
   "metadata": {},
   "source": [
    "#### Get list of collections"
   ]
  },
  {
   "cell_type": "code",
   "execution_count": 4,
   "id": "1943d67b90ef5345",
   "metadata": {
    "ExecuteTime": {
     "end_time": "2023-11-27T09:22:10.139918225Z",
     "start_time": "2023-11-27T09:22:09.771118477Z"
    }
   },
   "outputs": [
    {
     "data": {
      "text/plain": [
       "['users', 'slack_data', '10Academy']"
      ]
     },
     "execution_count": 4,
     "metadata": {},
     "output_type": "execute_result"
    }
   ],
   "source": [
    "db.list_collections()"
   ]
  },
  {
   "cell_type": "markdown",
   "id": "eff826746c1013d4",
   "metadata": {},
   "source": [
    "#### Insert record to collection"
   ]
  },
  {
   "cell_type": "code",
   "execution_count": 5,
   "id": "feda1ca67e1f08bf",
   "metadata": {
    "ExecuteTime": {
     "end_time": "2023-11-27T09:22:10.174968485Z",
     "start_time": "2023-11-27T09:22:09.840811255Z"
    }
   },
   "outputs": [
    {
     "name": "stdout",
     "output_type": "stream",
     "text": [
      "65686fd6d485420a27d08cfd\n"
     ]
    }
   ],
   "source": [
    "data = {\n",
    "    \"name\": \"John\"\n",
    "}\n",
    "inserted_record = db.insert_to_collection('users', data)\n",
    "print(inserted_record.inserted_id)\n"
   ]
  },
  {
   "cell_type": "markdown",
   "id": "a758e8de3c6b4947",
   "metadata": {},
   "source": [
    "#### Insert more than record to collection"
   ]
  },
  {
   "cell_type": "code",
   "execution_count": null,
   "id": "ca4588eb",
   "metadata": {},
   "outputs": [],
   "source": []
  },
  {
   "cell_type": "code",
   "execution_count": 6,
   "id": "e1613dd98803f815",
   "metadata": {
    "ExecuteTime": {
     "end_time": "2023-11-27T09:22:10.210845641Z",
     "start_time": "2023-11-27T09:22:09.841239357Z"
    }
   },
   "outputs": [
    {
     "name": "stdout",
     "output_type": "stream",
     "text": [
      "[ObjectId('65686fded485420a27d08cfe'), ObjectId('65686fded485420a27d08cff')]\n"
     ]
    }
   ],
   "source": [
    "data = [{\n",
    "    \"name\": \"Tom\"\n",
    "},\n",
    "    {\n",
    "        \"name\": \"Jane\",\n",
    "        \"age\": 33\n",
    "}\n",
    "]\n",
    "inserted_records = db.insert_many_to_collection('users', data)\n",
    "print(inserted_records)"
   ]
  },
  {
   "cell_type": "markdown",
   "id": "e902fb63fe9eca24",
   "metadata": {},
   "source": [
    "#### Find All records from collection "
   ]
  },
  {
   "cell_type": "code",
   "execution_count": 7,
   "id": "cddcaee42da38732",
   "metadata": {
    "ExecuteTime": {
     "end_time": "2023-11-27T09:22:10.211491539Z",
     "start_time": "2023-11-27T09:22:09.863917702Z"
    }
   },
   "outputs": [
    {
     "name": "stdout",
     "output_type": "stream",
     "text": [
      "{'_id': ObjectId('6568390c91b7eef87183c52c'), 'name': 'John'}\n",
      "{'_id': ObjectId('6568392491b7eef87183c52d'), 'name': 'Tom'}\n",
      "{'_id': ObjectId('6568392491b7eef87183c52e'), 'age': 33, 'name': 'Jane'}\n",
      "{'_id': ObjectId('65686fd6d485420a27d08cfd'), 'name': 'John'}\n",
      "{'_id': ObjectId('65686fded485420a27d08cfe'), 'name': 'Tom'}\n",
      "{'_id': ObjectId('65686fded485420a27d08cff'), 'age': 33, 'name': 'Jane'}\n"
     ]
    }
   ],
   "source": [
    "import pprint\n",
    "\n",
    "records = db.find_all('users')\n",
    "for record in records:\n",
    "    pprint.pprint(record)"
   ]
  },
  {
   "cell_type": "markdown",
   "id": "f7f5cb0be2c22957",
   "metadata": {},
   "source": [
    "#### Filter record from collection"
   ]
  },
  {
   "cell_type": "code",
   "execution_count": 8,
   "id": "af345ea0ccb0bbfd",
   "metadata": {
    "ExecuteTime": {
     "end_time": "2023-11-27T09:22:10.215331714Z",
     "start_time": "2023-11-27T09:22:09.908992355Z"
    }
   },
   "outputs": [
    {
     "name": "stdout",
     "output_type": "stream",
     "text": [
      "{'_id': ObjectId('6568392491b7eef87183c52e'), 'age': 33, 'name': 'Jane'}\n",
      "{'_id': ObjectId('65686fded485420a27d08cff'), 'age': 33, 'name': 'Jane'}\n"
     ]
    }
   ],
   "source": [
    "results = db.find('users', 'name', 'Jane')\n",
    "for result in results:\n",
    "    pprint.pprint(result)"
   ]
  },
  {
   "cell_type": "code",
   "execution_count": 9,
   "id": "974526cb5e1ea0c4",
   "metadata": {
    "ExecuteTime": {
     "end_time": "2023-11-27T09:22:10.235289519Z",
     "start_time": "2023-11-27T09:22:09.909276711Z"
    }
   },
   "outputs": [],
   "source": [
    "results = db.find('users', 'name', 'Rix')\n",
    "for result in results:\n",
    "    pprint.pprint(result)"
   ]
  },
  {
   "cell_type": "markdown",
   "id": "43a0d42c731246ea",
   "metadata": {},
   "source": [
    "#### Find one from collection"
   ]
  },
  {
   "cell_type": "code",
   "execution_count": 10,
   "id": "6e65a86719e4dd5d",
   "metadata": {
    "ExecuteTime": {
     "end_time": "2023-11-27T09:23:09.020008428Z",
     "start_time": "2023-11-27T09:23:08.994515406Z"
    }
   },
   "outputs": [
    {
     "name": "stdout",
     "output_type": "stream",
     "text": [
      "{'_id': ObjectId('6568392491b7eef87183c52e'), 'age': 33, 'name': 'Jane'}\n"
     ]
    }
   ],
   "source": [
    "result = db.find_one('users', 'name', 'Jane')\n",
    "pprint.pprint(result)"
   ]
  },
  {
   "cell_type": "markdown",
   "id": "37a9ad04",
   "metadata": {},
   "source": [
    "#### Initialize DBWithSchemaClass"
   ]
  },
  {
   "cell_type": "code",
   "execution_count": 11,
   "id": "a44faa0420149106",
   "metadata": {},
   "outputs": [
    {
     "name": "stdout",
     "output_type": "stream",
     "text": [
      "collection employee already exists\n"
     ]
    }
   ],
   "source": [
    "db_with_schema = DBWithSchema()"
   ]
  },
  {
   "cell_type": "markdown",
   "id": "076a3b3c",
   "metadata": {},
   "source": [
    "#### View validators"
   ]
  },
  {
   "cell_type": "code",
   "execution_count": 12,
   "id": "d4f5c537",
   "metadata": {},
   "outputs": [
    {
     "name": "stdout",
     "output_type": "stream",
     "text": [
      "{'validationAction': 'error',\n",
      " 'validationLevel': 'strict',\n",
      " 'validator': {'$jsonSchema': {'bsonType': 'object',\n",
      "                               'properties': {'city': {'bsonType': 'string',\n",
      "                                                       'description': 'must be '\n",
      "                                                                      'an '\n",
      "                                                                      'string '\n",
      "                                                                      'and is '\n",
      "                                                                      'required'},\n",
      "                                              'country': {'bsonType': 'string',\n",
      "                                                          'description': 'must '\n",
      "                                                                         'be '\n",
      "                                                                         'an '\n",
      "                                                                         'string '\n",
      "                                                                         'and '\n",
      "                                                                         'is '\n",
      "                                                                         'required'},\n",
      "                                              'name': {'bsonType': 'string',\n",
      "                                                       'description': 'must be '\n",
      "                                                                      'a '\n",
      "                                                                      'string '\n",
      "                                                                      'and is '\n",
      "                                                                      'required'}},\n",
      "                               'required': ['name', 'country', 'city']}}}\n"
     ]
    }
   ],
   "source": [
    "import pprint\n",
    "company_validator = db_with_schema.get_validation('company')\n",
    "pprint.pprint(company_validator)"
   ]
  },
  {
   "cell_type": "code",
   "execution_count": 13,
   "id": "cc3e1f07",
   "metadata": {},
   "outputs": [
    {
     "name": "stdout",
     "output_type": "stream",
     "text": [
      "{'validationAction': 'error',\n",
      " 'validationLevel': 'strict',\n",
      " 'validator': {'$jsonSchema': {'bsonType': 'object',\n",
      "                               'properties': {'age': {'bsonType': 'number',\n",
      "                                                      'description': 'must be '\n",
      "                                                                     'an '\n",
      "                                                                     'number '\n",
      "                                                                     'and is '\n",
      "                                                                     'required'},\n",
      "                                              'company': {'bsonType': 'objectId',\n",
      "                                                          'description': 'must '\n",
      "                                                                         'be '\n",
      "                                                                         'an '\n",
      "                                                                         'objectId '\n",
      "                                                                         'and '\n",
      "                                                                         'is '\n",
      "                                                                         'required'},\n",
      "                                              'name': {'bsonType': 'string',\n",
      "                                                       'description': 'must be '\n",
      "                                                                      'a '\n",
      "                                                                      'string '\n",
      "                                                                      'and is '\n",
      "                                                                      'required'}},\n",
      "                               'required': ['name', 'age', 'company']}}}\n"
     ]
    }
   ],
   "source": [
    "employee_validator = db_with_schema.get_validation('employee')\n",
    "pprint.pprint(employee_validator)"
   ]
  },
  {
   "cell_type": "markdown",
   "id": "59dc048c",
   "metadata": {},
   "source": [
    "#### Create Company"
   ]
  },
  {
   "cell_type": "code",
   "execution_count": 14,
   "id": "3240bb1a",
   "metadata": {},
   "outputs": [
    {
     "name": "stdout",
     "output_type": "stream",
     "text": [
      "[ObjectId('65687015d485420a27d08d01'), ObjectId('65687015d485420a27d08d02')]\n"
     ]
    }
   ],
   "source": [
    "company_data = [\n",
    "  {\n",
    "    \"name\": \"Mercedes-Benz\",\n",
    "    \"city\": \"Stuttgart\",\n",
    "    \"country\": \"Germany\"\n",
    "  },\n",
    "  {\n",
    "    \"name\": \"Chevrolet\",\n",
    "    \"city\": \"Detroit\",\n",
    "    \"country\": \"United States\"\n",
    "  }\n",
    "]\n",
    "inserted_records = db_with_schema.insert_many_to_collection('company', company_data)\n",
    "print(inserted_records)"
   ]
  },
  {
   "cell_type": "code",
   "execution_count": 15,
   "id": "22bedf96",
   "metadata": {},
   "outputs": [
    {
     "name": "stdout",
     "output_type": "stream",
     "text": [
      "[ObjectId('65687016d485420a27d08d03'), ObjectId('65687016d485420a27d08d04'), ObjectId('65687016d485420a27d08d05'), ObjectId('65687016d485420a27d08d06')]\n"
     ]
    }
   ],
   "source": [
    "employee_data = [\n",
    "  {\n",
    "    \"name\": \"Jane\",\n",
    "    \"age\": 24,\n",
    "    \"company\": inserted_records[0]\n",
    "  },\n",
    "  {\n",
    "    \"name\": \"John\",\n",
    "    \"age\": 26,\n",
    "    \"company\": inserted_records[1]\n",
    "  },\n",
    "  {\n",
    "    \"name\": \"Amy\",\n",
    "    \"age\": 23,\n",
    "    \"company\": inserted_records[1]\n",
    "  },\n",
    "  {\n",
    "    \"name\": \"Jack\",\n",
    "    \"age\": 22,\n",
    "    \"company\": inserted_records[0]\n",
    "  },\n",
    "]\n",
    "inserted_employees = db_with_schema.insert_many_to_collection('employee', employee_data)\n",
    "print(inserted_employees)"
   ]
  },
  {
   "cell_type": "markdown",
   "id": "4d71c56b",
   "metadata": {},
   "source": [
    "#### Select all Employees"
   ]
  },
  {
   "cell_type": "code",
   "execution_count": 16,
   "id": "76099a40",
   "metadata": {},
   "outputs": [
    {
     "name": "stdout",
     "output_type": "stream",
     "text": [
      "{'_id': ObjectId('6568395b91b7eef87183c532'),\n",
      " 'age': 24,\n",
      " 'company': ObjectId('6568395a91b7eef87183c530'),\n",
      " 'name': 'Jane'}\n",
      "{'_id': ObjectId('6568395b91b7eef87183c533'),\n",
      " 'age': 26,\n",
      " 'company': ObjectId('6568395a91b7eef87183c531'),\n",
      " 'name': 'John'}\n",
      "{'_id': ObjectId('6568395b91b7eef87183c534'),\n",
      " 'age': 23,\n",
      " 'company': ObjectId('6568395a91b7eef87183c531'),\n",
      " 'name': 'Amy'}\n",
      "{'_id': ObjectId('6568395b91b7eef87183c535'),\n",
      " 'age': 22,\n",
      " 'company': ObjectId('6568395a91b7eef87183c530'),\n",
      " 'name': 'Jack'}\n",
      "{'_id': ObjectId('65687016d485420a27d08d03'),\n",
      " 'age': 24,\n",
      " 'company': ObjectId('65687015d485420a27d08d01'),\n",
      " 'name': 'Jane'}\n",
      "{'_id': ObjectId('65687016d485420a27d08d04'),\n",
      " 'age': 26,\n",
      " 'company': ObjectId('65687015d485420a27d08d02'),\n",
      " 'name': 'John'}\n",
      "{'_id': ObjectId('65687016d485420a27d08d05'),\n",
      " 'age': 23,\n",
      " 'company': ObjectId('65687015d485420a27d08d02'),\n",
      " 'name': 'Amy'}\n",
      "{'_id': ObjectId('65687016d485420a27d08d06'),\n",
      " 'age': 22,\n",
      " 'company': ObjectId('65687015d485420a27d08d01'),\n",
      " 'name': 'Jack'}\n"
     ]
    }
   ],
   "source": [
    "import pprint\n",
    "\n",
    "employees = db_with_schema.find_all('employee')\n",
    "for employee in employees:\n",
    "    pprint.pprint(employee)"
   ]
  },
  {
   "cell_type": "markdown",
   "id": "85c56722",
   "metadata": {},
   "source": [
    "#### Look UP"
   ]
  },
  {
   "cell_type": "code",
   "execution_count": 17,
   "id": "cf62050e",
   "metadata": {},
   "outputs": [
    {
     "name": "stdout",
     "output_type": "stream",
     "text": [
      "{'_id': ObjectId('6568395a91b7eef87183c530'),\n",
      " 'city': 'Stuttgart',\n",
      " 'country': 'Germany',\n",
      " 'employees': [{'_id': ObjectId('6568395b91b7eef87183c532'),\n",
      "                'age': 24,\n",
      "                'company': ObjectId('6568395a91b7eef87183c530'),\n",
      "                'name': 'Jane'},\n",
      "               {'_id': ObjectId('6568395b91b7eef87183c535'),\n",
      "                'age': 22,\n",
      "                'company': ObjectId('6568395a91b7eef87183c530'),\n",
      "                'name': 'Jack'}],\n",
      " 'name': 'Mercedes-Benz'}\n",
      "{'_id': ObjectId('6568395a91b7eef87183c531'),\n",
      " 'city': 'Detroit',\n",
      " 'country': 'United States',\n",
      " 'employees': [{'_id': ObjectId('6568395b91b7eef87183c533'),\n",
      "                'age': 26,\n",
      "                'company': ObjectId('6568395a91b7eef87183c531'),\n",
      "                'name': 'John'},\n",
      "               {'_id': ObjectId('6568395b91b7eef87183c534'),\n",
      "                'age': 23,\n",
      "                'company': ObjectId('6568395a91b7eef87183c531'),\n",
      "                'name': 'Amy'}],\n",
      " 'name': 'Chevrolet'}\n",
      "{'_id': ObjectId('65687015d485420a27d08d01'),\n",
      " 'city': 'Stuttgart',\n",
      " 'country': 'Germany',\n",
      " 'employees': [{'_id': ObjectId('65687016d485420a27d08d03'),\n",
      "                'age': 24,\n",
      "                'company': ObjectId('65687015d485420a27d08d01'),\n",
      "                'name': 'Jane'},\n",
      "               {'_id': ObjectId('65687016d485420a27d08d06'),\n",
      "                'age': 22,\n",
      "                'company': ObjectId('65687015d485420a27d08d01'),\n",
      "                'name': 'Jack'}],\n",
      " 'name': 'Mercedes-Benz'}\n",
      "{'_id': ObjectId('65687015d485420a27d08d02'),\n",
      " 'city': 'Detroit',\n",
      " 'country': 'United States',\n",
      " 'employees': [{'_id': ObjectId('65687016d485420a27d08d04'),\n",
      "                'age': 26,\n",
      "                'company': ObjectId('65687015d485420a27d08d02'),\n",
      "                'name': 'John'},\n",
      "               {'_id': ObjectId('65687016d485420a27d08d05'),\n",
      "                'age': 23,\n",
      "                'company': ObjectId('65687015d485420a27d08d02'),\n",
      "                'name': 'Amy'}],\n",
      " 'name': 'Chevrolet'}\n"
     ]
    }
   ],
   "source": [
    "lookup = [\n",
    "    {\n",
    "        \"$lookup\": {\n",
    "            \"from\": \"employee\",\n",
    "            \"localField\": \"_id\",\n",
    "            \"foreignField\": \"company\",\n",
    "            \"as\": \"employees\"\n",
    "        }\n",
    "    }\n",
    "]\n",
    "employees_with_company = db_with_schema.db.company.aggregate(lookup)\n",
    "employees_list = list(employees_with_company)\n",
    "for employee in employees_list:\n",
    "    pprint.pprint(employee)"
   ]
  },
  {
   "cell_type": "code",
   "execution_count": null,
   "id": "d5ee3446",
   "metadata": {},
   "outputs": [],
   "source": []
  },
  {
   "cell_type": "code",
   "execution_count": null,
   "id": "a8bb88d8",
   "metadata": {},
   "outputs": [],
   "source": []
  },
  {
   "cell_type": "code",
   "execution_count": null,
   "id": "85cf5a25",
   "metadata": {},
   "outputs": [],
   "source": []
  },
  {
   "cell_type": "code",
   "execution_count": null,
   "id": "e2f49324",
   "metadata": {},
   "outputs": [],
   "source": []
  },
  {
   "cell_type": "markdown",
   "id": "10502f9f",
   "metadata": {},
   "source": [
    "importing json folder messages in to mongodb"
   ]
  },
  {
   "cell_type": "code",
   "execution_count": 25,
   "id": "91f72e3c",
   "metadata": {},
   "outputs": [
    {
     "name": "stdout",
     "output_type": "stream",
     "text": [
      "Inserted IDs: [ObjectId('65687b95d485420a27d08d7d'), ObjectId('65687b95d485420a27d08d7e'), ObjectId('65687b95d485420a27d08d7f'), ObjectId('65687b95d485420a27d08d80'), ObjectId('65687b95d485420a27d08d81'), ObjectId('65687b95d485420a27d08d82'), ObjectId('65687b95d485420a27d08d83'), ObjectId('65687b95d485420a27d08d84'), ObjectId('65687b95d485420a27d08d85'), ObjectId('65687b95d485420a27d08d86'), ObjectId('65687b95d485420a27d08d87'), ObjectId('65687b95d485420a27d08d88'), ObjectId('65687b95d485420a27d08d89'), ObjectId('65687b95d485420a27d08d8a'), ObjectId('65687b95d485420a27d08d8b'), ObjectId('65687b95d485420a27d08d8c'), ObjectId('65687b95d485420a27d08d8d'), ObjectId('65687b95d485420a27d08d8e'), ObjectId('65687b95d485420a27d08d8f'), ObjectId('65687b95d485420a27d08d90'), ObjectId('65687b95d485420a27d08d91'), ObjectId('65687b95d485420a27d08d92'), ObjectId('65687b95d485420a27d08d93'), ObjectId('65687b95d485420a27d08d94'), ObjectId('65687b95d485420a27d08d95'), ObjectId('65687b95d485420a27d08d96'), ObjectId('65687b95d485420a27d08d97'), ObjectId('65687b95d485420a27d08d98'), ObjectId('65687b95d485420a27d08d99'), ObjectId('65687b95d485420a27d08d9a'), ObjectId('65687b95d485420a27d08d9b'), ObjectId('65687b95d485420a27d08d9c'), ObjectId('65687b95d485420a27d08d9d'), ObjectId('65687b95d485420a27d08d9e'), ObjectId('65687b95d485420a27d08d9f'), ObjectId('65687b95d485420a27d08da0'), ObjectId('65687b95d485420a27d08da1'), ObjectId('65687b95d485420a27d08da2'), ObjectId('65687b95d485420a27d08da3'), ObjectId('65687b95d485420a27d08da4'), ObjectId('65687b95d485420a27d08da5'), ObjectId('65687b95d485420a27d08da6'), ObjectId('65687b95d485420a27d08da7'), ObjectId('65687b95d485420a27d08da8'), ObjectId('65687b95d485420a27d08da9'), ObjectId('65687b95d485420a27d08daa'), ObjectId('65687b95d485420a27d08dab'), ObjectId('65687b95d485420a27d08dac'), ObjectId('65687b95d485420a27d08dad'), ObjectId('65687b95d485420a27d08dae'), ObjectId('65687b95d485420a27d08daf'), ObjectId('65687b95d485420a27d08db0'), ObjectId('65687b95d485420a27d08db1'), ObjectId('65687b95d485420a27d08db2'), ObjectId('65687b95d485420a27d08db3'), ObjectId('65687b95d485420a27d08db4'), ObjectId('65687b95d485420a27d08db5'), ObjectId('65687b95d485420a27d08db6'), ObjectId('65687b95d485420a27d08db7'), ObjectId('65687b95d485420a27d08db8'), ObjectId('65687b95d485420a27d08db9'), ObjectId('65687b95d485420a27d08dba'), ObjectId('65687b95d485420a27d08dbb'), ObjectId('65687b95d485420a27d08dbc'), ObjectId('65687b95d485420a27d08dbd'), ObjectId('65687b95d485420a27d08dbe'), ObjectId('65687b95d485420a27d08dbf'), ObjectId('65687b95d485420a27d08dc0'), ObjectId('65687b95d485420a27d08dc1'), ObjectId('65687b95d485420a27d08dc2'), ObjectId('65687b95d485420a27d08dc3'), ObjectId('65687b95d485420a27d08dc4'), ObjectId('65687b95d485420a27d08dc5'), ObjectId('65687b95d485420a27d08dc6'), ObjectId('65687b95d485420a27d08dc7'), ObjectId('65687b95d485420a27d08dc8'), ObjectId('65687b95d485420a27d08dc9'), ObjectId('65687b95d485420a27d08dca'), ObjectId('65687b95d485420a27d08dcb'), ObjectId('65687b95d485420a27d08dcc'), ObjectId('65687b95d485420a27d08dcd'), ObjectId('65687b95d485420a27d08dce'), ObjectId('65687b95d485420a27d08dcf'), ObjectId('65687b95d485420a27d08dd0'), ObjectId('65687b95d485420a27d08dd1'), ObjectId('65687b95d485420a27d08dd2'), ObjectId('65687b95d485420a27d08dd3'), ObjectId('65687b95d485420a27d08dd4'), ObjectId('65687b95d485420a27d08dd5'), ObjectId('65687b95d485420a27d08dd6'), ObjectId('65687b95d485420a27d08dd7'), ObjectId('65687b95d485420a27d08dd8'), ObjectId('65687b95d485420a27d08dd9'), ObjectId('65687b95d485420a27d08dda'), ObjectId('65687b95d485420a27d08ddb'), ObjectId('65687b95d485420a27d08ddc'), ObjectId('65687b95d485420a27d08ddd'), ObjectId('65687b95d485420a27d08dde'), ObjectId('65687b95d485420a27d08ddf'), ObjectId('65687b95d485420a27d08de0'), ObjectId('65687b95d485420a27d08de1'), ObjectId('65687b95d485420a27d08de2'), ObjectId('65687b95d485420a27d08de3'), ObjectId('65687b95d485420a27d08de4'), ObjectId('65687b95d485420a27d08de5'), ObjectId('65687b95d485420a27d08de6'), ObjectId('65687b95d485420a27d08de7'), ObjectId('65687b95d485420a27d08de8'), ObjectId('65687b95d485420a27d08de9'), ObjectId('65687b95d485420a27d08dea'), ObjectId('65687b95d485420a27d08deb'), ObjectId('65687b95d485420a27d08dec'), ObjectId('65687b95d485420a27d08ded'), ObjectId('65687b95d485420a27d08dee'), ObjectId('65687b95d485420a27d08def'), ObjectId('65687b95d485420a27d08df0'), ObjectId('65687b95d485420a27d08df1'), ObjectId('65687b95d485420a27d08df2'), ObjectId('65687b95d485420a27d08df3'), ObjectId('65687b95d485420a27d08df4'), ObjectId('65687b95d485420a27d08df5'), ObjectId('65687b95d485420a27d08df6'), ObjectId('65687b95d485420a27d08df7'), ObjectId('65687b95d485420a27d08df8'), ObjectId('65687b95d485420a27d08df9'), ObjectId('65687b95d485420a27d08dfa'), ObjectId('65687b95d485420a27d08dfb'), ObjectId('65687b95d485420a27d08dfc'), ObjectId('65687b95d485420a27d08dfd'), ObjectId('65687b95d485420a27d08dfe'), ObjectId('65687b95d485420a27d08dff'), ObjectId('65687b95d485420a27d08e00'), ObjectId('65687b95d485420a27d08e01'), ObjectId('65687b95d485420a27d08e02'), ObjectId('65687b95d485420a27d08e03'), ObjectId('65687b95d485420a27d08e04'), ObjectId('65687b95d485420a27d08e05'), ObjectId('65687b95d485420a27d08e06'), ObjectId('65687b95d485420a27d08e07'), ObjectId('65687b95d485420a27d08e08'), ObjectId('65687b95d485420a27d08e09'), ObjectId('65687b95d485420a27d08e0a'), ObjectId('65687b95d485420a27d08e0b'), ObjectId('65687b95d485420a27d08e0c'), ObjectId('65687b95d485420a27d08e0d'), ObjectId('65687b95d485420a27d08e0e'), ObjectId('65687b95d485420a27d08e0f'), ObjectId('65687b95d485420a27d08e10'), ObjectId('65687b95d485420a27d08e11'), ObjectId('65687b95d485420a27d08e12'), ObjectId('65687b95d485420a27d08e13'), ObjectId('65687b95d485420a27d08e14'), ObjectId('65687b95d485420a27d08e15'), ObjectId('65687b95d485420a27d08e16'), ObjectId('65687b95d485420a27d08e17'), ObjectId('65687b95d485420a27d08e18'), ObjectId('65687b95d485420a27d08e19'), ObjectId('65687b95d485420a27d08e1a'), ObjectId('65687b95d485420a27d08e1b'), ObjectId('65687b95d485420a27d08e1c'), ObjectId('65687b95d485420a27d08e1d'), ObjectId('65687b95d485420a27d08e1e'), ObjectId('65687b95d485420a27d08e1f'), ObjectId('65687b95d485420a27d08e20'), ObjectId('65687b95d485420a27d08e21'), ObjectId('65687b95d485420a27d08e22'), ObjectId('65687b95d485420a27d08e23'), ObjectId('65687b95d485420a27d08e24'), ObjectId('65687b95d485420a27d08e25'), ObjectId('65687b95d485420a27d08e26'), ObjectId('65687b95d485420a27d08e27'), ObjectId('65687b95d485420a27d08e28'), ObjectId('65687b95d485420a27d08e29'), ObjectId('65687b95d485420a27d08e2a'), ObjectId('65687b95d485420a27d08e2b'), ObjectId('65687b95d485420a27d08e2c'), ObjectId('65687b95d485420a27d08e2d'), ObjectId('65687b95d485420a27d08e2e'), ObjectId('65687b95d485420a27d08e2f'), ObjectId('65687b95d485420a27d08e30'), ObjectId('65687b95d485420a27d08e31'), ObjectId('65687b95d485420a27d08e32'), ObjectId('65687b95d485420a27d08e33'), ObjectId('65687b95d485420a27d08e34'), ObjectId('65687b95d485420a27d08e35'), ObjectId('65687b95d485420a27d08e36'), ObjectId('65687b95d485420a27d08e37'), ObjectId('65687b95d485420a27d08e38'), ObjectId('65687b95d485420a27d08e39'), ObjectId('65687b95d485420a27d08e3a'), ObjectId('65687b95d485420a27d08e3b'), ObjectId('65687b95d485420a27d08e3c'), ObjectId('65687b95d485420a27d08e3d'), ObjectId('65687b95d485420a27d08e3e'), ObjectId('65687b95d485420a27d08e3f'), ObjectId('65687b95d485420a27d08e40'), ObjectId('65687b95d485420a27d08e41'), ObjectId('65687b95d485420a27d08e42'), ObjectId('65687b95d485420a27d08e43'), ObjectId('65687b95d485420a27d08e44'), ObjectId('65687b95d485420a27d08e45'), ObjectId('65687b95d485420a27d08e46'), ObjectId('65687b95d485420a27d08e47'), ObjectId('65687b95d485420a27d08e48'), ObjectId('65687b95d485420a27d08e49'), ObjectId('65687b95d485420a27d08e4a'), ObjectId('65687b95d485420a27d08e4b'), ObjectId('65687b95d485420a27d08e4c'), ObjectId('65687b95d485420a27d08e4d'), ObjectId('65687b95d485420a27d08e4e'), ObjectId('65687b95d485420a27d08e4f'), ObjectId('65687b95d485420a27d08e50'), ObjectId('65687b95d485420a27d08e51'), ObjectId('65687b95d485420a27d08e52'), ObjectId('65687b95d485420a27d08e53'), ObjectId('65687b95d485420a27d08e54'), ObjectId('65687b95d485420a27d08e55'), ObjectId('65687b95d485420a27d08e56'), ObjectId('65687b95d485420a27d08e57'), ObjectId('65687b95d485420a27d08e58'), ObjectId('65687b95d485420a27d08e59'), ObjectId('65687b95d485420a27d08e5a'), ObjectId('65687b95d485420a27d08e5b'), ObjectId('65687b95d485420a27d08e5c'), ObjectId('65687b95d485420a27d08e5d'), ObjectId('65687b95d485420a27d08e5e'), ObjectId('65687b95d485420a27d08e5f'), ObjectId('65687b95d485420a27d08e60'), ObjectId('65687b95d485420a27d08e61'), ObjectId('65687b95d485420a27d08e62'), ObjectId('65687b95d485420a27d08e63'), ObjectId('65687b95d485420a27d08e64'), ObjectId('65687b95d485420a27d08e65'), ObjectId('65687b95d485420a27d08e66'), ObjectId('65687b95d485420a27d08e67'), ObjectId('65687b95d485420a27d08e68'), ObjectId('65687b95d485420a27d08e69'), ObjectId('65687b95d485420a27d08e6a'), ObjectId('65687b95d485420a27d08e6b'), ObjectId('65687b95d485420a27d08e6c'), ObjectId('65687b95d485420a27d08e6d'), ObjectId('65687b95d485420a27d08e6e'), ObjectId('65687b95d485420a27d08e6f'), ObjectId('65687b95d485420a27d08e70'), ObjectId('65687b95d485420a27d08e71'), ObjectId('65687b95d485420a27d08e72'), ObjectId('65687b95d485420a27d08e73'), ObjectId('65687b95d485420a27d08e74'), ObjectId('65687b95d485420a27d08e75'), ObjectId('65687b95d485420a27d08e76'), ObjectId('65687b95d485420a27d08e77'), ObjectId('65687b95d485420a27d08e78'), ObjectId('65687b95d485420a27d08e79'), ObjectId('65687b95d485420a27d08e7a'), ObjectId('65687b95d485420a27d08e7b'), ObjectId('65687b95d485420a27d08e7c'), ObjectId('65687b95d485420a27d08e7d'), ObjectId('65687b95d485420a27d08e7e'), ObjectId('65687b95d485420a27d08e7f'), ObjectId('65687b95d485420a27d08e80'), ObjectId('65687b95d485420a27d08e81'), ObjectId('65687b95d485420a27d08e82'), ObjectId('65687b95d485420a27d08e83'), ObjectId('65687b95d485420a27d08e84'), ObjectId('65687b95d485420a27d08e85'), ObjectId('65687b95d485420a27d08e86'), ObjectId('65687b95d485420a27d08e87'), ObjectId('65687b95d485420a27d08e88'), ObjectId('65687b95d485420a27d08e89'), ObjectId('65687b95d485420a27d08e8a'), ObjectId('65687b95d485420a27d08e8b'), ObjectId('65687b95d485420a27d08e8c'), ObjectId('65687b95d485420a27d08e8d'), ObjectId('65687b95d485420a27d08e8e'), ObjectId('65687b95d485420a27d08e8f'), ObjectId('65687b95d485420a27d08e90'), ObjectId('65687b95d485420a27d08e91'), ObjectId('65687b95d485420a27d08e92'), ObjectId('65687b95d485420a27d08e93'), ObjectId('65687b95d485420a27d08e94'), ObjectId('65687b95d485420a27d08e95'), ObjectId('65687b95d485420a27d08e96'), ObjectId('65687b95d485420a27d08e97'), ObjectId('65687b95d485420a27d08e98'), ObjectId('65687b95d485420a27d08e99'), ObjectId('65687b95d485420a27d08e9a'), ObjectId('65687b95d485420a27d08e9b'), ObjectId('65687b95d485420a27d08e9c'), ObjectId('65687b95d485420a27d08e9d'), ObjectId('65687b95d485420a27d08e9e'), ObjectId('65687b95d485420a27d08e9f'), ObjectId('65687b95d485420a27d08ea0'), ObjectId('65687b95d485420a27d08ea1'), ObjectId('65687b95d485420a27d08ea2'), ObjectId('65687b95d485420a27d08ea3'), ObjectId('65687b95d485420a27d08ea4'), ObjectId('65687b95d485420a27d08ea5'), ObjectId('65687b95d485420a27d08ea6'), ObjectId('65687b95d485420a27d08ea7'), ObjectId('65687b95d485420a27d08ea8'), ObjectId('65687b95d485420a27d08ea9'), ObjectId('65687b95d485420a27d08eaa'), ObjectId('65687b95d485420a27d08eab'), ObjectId('65687b95d485420a27d08eac'), ObjectId('65687b95d485420a27d08ead'), ObjectId('65687b95d485420a27d08eae'), ObjectId('65687b95d485420a27d08eaf'), ObjectId('65687b95d485420a27d08eb0'), ObjectId('65687b95d485420a27d08eb1'), ObjectId('65687b95d485420a27d08eb2'), ObjectId('65687b95d485420a27d08eb3'), ObjectId('65687b95d485420a27d08eb4'), ObjectId('65687b95d485420a27d08eb5'), ObjectId('65687b95d485420a27d08eb6'), ObjectId('65687b95d485420a27d08eb7'), ObjectId('65687b95d485420a27d08eb8'), ObjectId('65687b95d485420a27d08eb9'), ObjectId('65687b95d485420a27d08eba'), ObjectId('65687b95d485420a27d08ebb'), ObjectId('65687b95d485420a27d08ebc'), ObjectId('65687b95d485420a27d08ebd'), ObjectId('65687b95d485420a27d08ebe'), ObjectId('65687b95d485420a27d08ebf'), ObjectId('65687b95d485420a27d08ec0'), ObjectId('65687b95d485420a27d08ec1'), ObjectId('65687b95d485420a27d08ec2'), ObjectId('65687b95d485420a27d08ec3'), ObjectId('65687b95d485420a27d08ec4'), ObjectId('65687b95d485420a27d08ec5'), ObjectId('65687b95d485420a27d08ec6'), ObjectId('65687b95d485420a27d08ec7'), ObjectId('65687b95d485420a27d08ec8'), ObjectId('65687b95d485420a27d08ec9'), ObjectId('65687b95d485420a27d08eca'), ObjectId('65687b95d485420a27d08ecb'), ObjectId('65687b95d485420a27d08ecc'), ObjectId('65687b95d485420a27d08ecd'), ObjectId('65687b95d485420a27d08ece'), ObjectId('65687b95d485420a27d08ecf'), ObjectId('65687b95d485420a27d08ed0'), ObjectId('65687b95d485420a27d08ed1'), ObjectId('65687b95d485420a27d08ed2'), ObjectId('65687b95d485420a27d08ed3'), ObjectId('65687b95d485420a27d08ed4'), ObjectId('65687b95d485420a27d08ed5'), ObjectId('65687b95d485420a27d08ed6'), ObjectId('65687b95d485420a27d08ed7'), ObjectId('65687b95d485420a27d08ed8'), ObjectId('65687b95d485420a27d08ed9'), ObjectId('65687b95d485420a27d08eda'), ObjectId('65687b95d485420a27d08edb'), ObjectId('65687b95d485420a27d08edc'), ObjectId('65687b95d485420a27d08edd'), ObjectId('65687b95d485420a27d08ede'), ObjectId('65687b95d485420a27d08edf'), ObjectId('65687b95d485420a27d08ee0'), ObjectId('65687b95d485420a27d08ee1'), ObjectId('65687b95d485420a27d08ee2'), ObjectId('65687b95d485420a27d08ee3'), ObjectId('65687b95d485420a27d08ee4'), ObjectId('65687b95d485420a27d08ee5'), ObjectId('65687b95d485420a27d08ee6'), ObjectId('65687b95d485420a27d08ee7'), ObjectId('65687b95d485420a27d08ee8'), ObjectId('65687b95d485420a27d08ee9'), ObjectId('65687b95d485420a27d08eea'), ObjectId('65687b95d485420a27d08eeb'), ObjectId('65687b95d485420a27d08eec'), ObjectId('65687b95d485420a27d08eed'), ObjectId('65687b95d485420a27d08eee'), ObjectId('65687b95d485420a27d08eef'), ObjectId('65687b95d485420a27d08ef0'), ObjectId('65687b95d485420a27d08ef1'), ObjectId('65687b95d485420a27d08ef2'), ObjectId('65687b95d485420a27d08ef3'), ObjectId('65687b95d485420a27d08ef4'), ObjectId('65687b95d485420a27d08ef5'), ObjectId('65687b95d485420a27d08ef6'), ObjectId('65687b95d485420a27d08ef7'), ObjectId('65687b95d485420a27d08ef8'), ObjectId('65687b95d485420a27d08ef9'), ObjectId('65687b95d485420a27d08efa'), ObjectId('65687b95d485420a27d08efb'), ObjectId('65687b95d485420a27d08efc'), ObjectId('65687b95d485420a27d08efd'), ObjectId('65687b95d485420a27d08efe'), ObjectId('65687b95d485420a27d08eff'), ObjectId('65687b95d485420a27d08f00'), ObjectId('65687b95d485420a27d08f01'), ObjectId('65687b95d485420a27d08f02'), ObjectId('65687b95d485420a27d08f03'), ObjectId('65687b95d485420a27d08f04'), ObjectId('65687b95d485420a27d08f05'), ObjectId('65687b95d485420a27d08f06'), ObjectId('65687b95d485420a27d08f07'), ObjectId('65687b95d485420a27d08f08'), ObjectId('65687b95d485420a27d08f09'), ObjectId('65687b95d485420a27d08f0a'), ObjectId('65687b95d485420a27d08f0b'), ObjectId('65687b95d485420a27d08f0c'), ObjectId('65687b95d485420a27d08f0d'), ObjectId('65687b95d485420a27d08f0e'), ObjectId('65687b95d485420a27d08f0f'), ObjectId('65687b95d485420a27d08f10'), ObjectId('65687b95d485420a27d08f11'), ObjectId('65687b95d485420a27d08f12'), ObjectId('65687b95d485420a27d08f13'), ObjectId('65687b95d485420a27d08f14'), ObjectId('65687b95d485420a27d08f15'), ObjectId('65687b95d485420a27d08f16'), ObjectId('65687b95d485420a27d08f17'), ObjectId('65687b95d485420a27d08f18'), ObjectId('65687b95d485420a27d08f19'), ObjectId('65687b95d485420a27d08f1a'), ObjectId('65687b95d485420a27d08f1b'), ObjectId('65687b95d485420a27d08f1c'), ObjectId('65687b95d485420a27d08f1d'), ObjectId('65687b95d485420a27d08f1e'), ObjectId('65687b95d485420a27d08f1f'), ObjectId('65687b95d485420a27d08f20'), ObjectId('65687b95d485420a27d08f21'), ObjectId('65687b95d485420a27d08f22'), ObjectId('65687b95d485420a27d08f23'), ObjectId('65687b95d485420a27d08f24'), ObjectId('65687b95d485420a27d08f25'), ObjectId('65687b95d485420a27d08f26'), ObjectId('65687b95d485420a27d08f27'), ObjectId('65687b95d485420a27d08f28'), ObjectId('65687b95d485420a27d08f29'), ObjectId('65687b95d485420a27d08f2a'), ObjectId('65687b95d485420a27d08f2b'), ObjectId('65687b95d485420a27d08f2c'), ObjectId('65687b95d485420a27d08f2d'), ObjectId('65687b95d485420a27d08f2e'), ObjectId('65687b95d485420a27d08f2f'), ObjectId('65687b95d485420a27d08f30'), ObjectId('65687b95d485420a27d08f31'), ObjectId('65687b95d485420a27d08f32'), ObjectId('65687b95d485420a27d08f33'), ObjectId('65687b95d485420a27d08f34'), ObjectId('65687b95d485420a27d08f35'), ObjectId('65687b95d485420a27d08f36'), ObjectId('65687b95d485420a27d08f37'), ObjectId('65687b95d485420a27d08f38'), ObjectId('65687b95d485420a27d08f39'), ObjectId('65687b95d485420a27d08f3a'), ObjectId('65687b95d485420a27d08f3b'), ObjectId('65687b95d485420a27d08f3c'), ObjectId('65687b95d485420a27d08f3d'), ObjectId('65687b95d485420a27d08f3e'), ObjectId('65687b95d485420a27d08f3f'), ObjectId('65687b95d485420a27d08f40'), ObjectId('65687b95d485420a27d08f41'), ObjectId('65687b95d485420a27d08f42'), ObjectId('65687b95d485420a27d08f43'), ObjectId('65687b95d485420a27d08f44'), ObjectId('65687b95d485420a27d08f45'), ObjectId('65687b95d485420a27d08f46'), ObjectId('65687b95d485420a27d08f47'), ObjectId('65687b95d485420a27d08f48'), ObjectId('65687b95d485420a27d08f49'), ObjectId('65687b95d485420a27d08f4a'), ObjectId('65687b95d485420a27d08f4b'), ObjectId('65687b95d485420a27d08f4c'), ObjectId('65687b95d485420a27d08f4d'), ObjectId('65687b95d485420a27d08f4e'), ObjectId('65687b95d485420a27d08f4f'), ObjectId('65687b95d485420a27d08f50'), ObjectId('65687b95d485420a27d08f51'), ObjectId('65687b95d485420a27d08f52'), ObjectId('65687b95d485420a27d08f53'), ObjectId('65687b95d485420a27d08f54'), ObjectId('65687b95d485420a27d08f55'), ObjectId('65687b95d485420a27d08f56'), ObjectId('65687b95d485420a27d08f57'), ObjectId('65687b95d485420a27d08f58'), ObjectId('65687b95d485420a27d08f59'), ObjectId('65687b95d485420a27d08f5a'), ObjectId('65687b95d485420a27d08f5b'), ObjectId('65687b95d485420a27d08f5c'), ObjectId('65687b95d485420a27d08f5d'), ObjectId('65687b95d485420a27d08f5e'), ObjectId('65687b95d485420a27d08f5f'), ObjectId('65687b95d485420a27d08f60'), ObjectId('65687b95d485420a27d08f61'), ObjectId('65687b95d485420a27d08f62'), ObjectId('65687b95d485420a27d08f63'), ObjectId('65687b95d485420a27d08f64'), ObjectId('65687b95d485420a27d08f65'), ObjectId('65687b95d485420a27d08f66'), ObjectId('65687b95d485420a27d08f67'), ObjectId('65687b95d485420a27d08f68'), ObjectId('65687b95d485420a27d08f69'), ObjectId('65687b95d485420a27d08f6a'), ObjectId('65687b95d485420a27d08f6b'), ObjectId('65687b95d485420a27d08f6c'), ObjectId('65687b95d485420a27d08f6d'), ObjectId('65687b95d485420a27d08f6e'), ObjectId('65687b95d485420a27d08f6f'), ObjectId('65687b95d485420a27d08f70'), ObjectId('65687b95d485420a27d08f71'), ObjectId('65687b95d485420a27d08f72'), ObjectId('65687b95d485420a27d08f73'), ObjectId('65687b95d485420a27d08f74'), ObjectId('65687b95d485420a27d08f75'), ObjectId('65687b95d485420a27d08f76'), ObjectId('65687b95d485420a27d08f77'), ObjectId('65687b95d485420a27d08f78'), ObjectId('65687b95d485420a27d08f79'), ObjectId('65687b95d485420a27d08f7a'), ObjectId('65687b95d485420a27d08f7b'), ObjectId('65687b95d485420a27d08f7c'), ObjectId('65687b95d485420a27d08f7d'), ObjectId('65687b95d485420a27d08f7e'), ObjectId('65687b95d485420a27d08f7f'), ObjectId('65687b95d485420a27d08f80'), ObjectId('65687b95d485420a27d08f81'), ObjectId('65687b95d485420a27d08f82'), ObjectId('65687b95d485420a27d08f83'), ObjectId('65687b95d485420a27d08f84'), ObjectId('65687b95d485420a27d08f85'), ObjectId('65687b95d485420a27d08f86'), ObjectId('65687b95d485420a27d08f87'), ObjectId('65687b95d485420a27d08f88'), ObjectId('65687b95d485420a27d08f89'), ObjectId('65687b95d485420a27d08f8a'), ObjectId('65687b95d485420a27d08f8b'), ObjectId('65687b95d485420a27d08f8c'), ObjectId('65687b95d485420a27d08f8d'), ObjectId('65687b95d485420a27d08f8e'), ObjectId('65687b95d485420a27d08f8f'), ObjectId('65687b95d485420a27d08f90'), ObjectId('65687b95d485420a27d08f91'), ObjectId('65687b95d485420a27d08f92'), ObjectId('65687b95d485420a27d08f93'), ObjectId('65687b95d485420a27d08f94'), ObjectId('65687b95d485420a27d08f95'), ObjectId('65687b95d485420a27d08f96'), ObjectId('65687b95d485420a27d08f97'), ObjectId('65687b95d485420a27d08f98'), ObjectId('65687b95d485420a27d08f99'), ObjectId('65687b95d485420a27d08f9a'), ObjectId('65687b95d485420a27d08f9b'), ObjectId('65687b95d485420a27d08f9c'), ObjectId('65687b95d485420a27d08f9d'), ObjectId('65687b95d485420a27d08f9e'), ObjectId('65687b95d485420a27d08f9f'), ObjectId('65687b95d485420a27d08fa0'), ObjectId('65687b95d485420a27d08fa1'), ObjectId('65687b95d485420a27d08fa2'), ObjectId('65687b95d485420a27d08fa3'), ObjectId('65687b95d485420a27d08fa4'), ObjectId('65687b95d485420a27d08fa5'), ObjectId('65687b95d485420a27d08fa6'), ObjectId('65687b95d485420a27d08fa7'), ObjectId('65687b95d485420a27d08fa8'), ObjectId('65687b95d485420a27d08fa9'), ObjectId('65687b95d485420a27d08faa'), ObjectId('65687b95d485420a27d08fab'), ObjectId('65687b95d485420a27d08fac'), ObjectId('65687b95d485420a27d08fad'), ObjectId('65687b95d485420a27d08fae'), ObjectId('65687b95d485420a27d08faf'), ObjectId('65687b95d485420a27d08fb0'), ObjectId('65687b95d485420a27d08fb1'), ObjectId('65687b95d485420a27d08fb2'), ObjectId('65687b95d485420a27d08fb3'), ObjectId('65687b95d485420a27d08fb4'), ObjectId('65687b95d485420a27d08fb5'), ObjectId('65687b95d485420a27d08fb6'), ObjectId('65687b95d485420a27d08fb7'), ObjectId('65687b95d485420a27d08fb8'), ObjectId('65687b95d485420a27d08fb9'), ObjectId('65687b95d485420a27d08fba'), ObjectId('65687b95d485420a27d08fbb'), ObjectId('65687b95d485420a27d08fbc'), ObjectId('65687b95d485420a27d08fbd'), ObjectId('65687b95d485420a27d08fbe'), ObjectId('65687b95d485420a27d08fbf'), ObjectId('65687b95d485420a27d08fc0'), ObjectId('65687b95d485420a27d08fc1'), ObjectId('65687b95d485420a27d08fc2'), ObjectId('65687b95d485420a27d08fc3'), ObjectId('65687b95d485420a27d08fc4'), ObjectId('65687b95d485420a27d08fc5'), ObjectId('65687b95d485420a27d08fc6'), ObjectId('65687b95d485420a27d08fc7'), ObjectId('65687b95d485420a27d08fc8'), ObjectId('65687b95d485420a27d08fc9'), ObjectId('65687b95d485420a27d08fca'), ObjectId('65687b95d485420a27d08fcb'), ObjectId('65687b95d485420a27d08fcc'), ObjectId('65687b95d485420a27d08fcd'), ObjectId('65687b95d485420a27d08fce'), ObjectId('65687b95d485420a27d08fcf'), ObjectId('65687b95d485420a27d08fd0')]\n"
     ]
    }
   ],
   "source": [
    "import os\n",
    "\n",
    "def import_data_from_json(db, collection_name, json_folder):\n",
    "    \"\"\"\n",
    "    Import data from JSON files in a folder into the specified collection.\n",
    "\n",
    "    Parameters:\n",
    "    - db (pymongo.database.Database): The MongoDB database object.\n",
    "    - collection_name (str): The name of the MongoDB collection.\n",
    "    - json_folder (str): The path to the folder containing JSON files.\n",
    "\n",
    "    Returns:\n",
    "    - list: List of inserted document IDs.\n",
    "    \"\"\"\n",
    "    # List all JSON files in the folder\n",
    "    json_files = [f for f in os.listdir(json_folder) if f.endswith('.json')]\n",
    "\n",
    "    # List to store inserted document IDs\n",
    "    inserted_ids_list = []\n",
    "\n",
    "    # Iterate over JSON files\n",
    "    for json_file in json_files:\n",
    "        # Construct the full path to the JSON file\n",
    "        json_file_path = os.path.join(json_folder, json_file)\n",
    "\n",
    "        # Read data from the JSON file\n",
    "        with open(json_file_path, 'r') as file:\n",
    "            data = json.load(file)\n",
    "\n",
    "        # Insert data into the collection\n",
    "        result = db[collection_name].insert_many(data)\n",
    "\n",
    "        # Add inserted document IDs to the list\n",
    "        inserted_ids_list.extend(result.inserted_ids)\n",
    "\n",
    "    return inserted_ids_list\n",
    "\n",
    "# Connect to the local MongoDB instance\n",
    "client = MongoClient(\"mongodb://localhost:27017/\")\n",
    "\n",
    "# Choose or create a database\n",
    "db = client[\"10Academy\"]\n",
    "\n",
    "# Specify the collection name\n",
    "collection_name = \"all-week1\"\n",
    "\n",
    "# Specify the path to the folder containing JSON files\n",
    "json_folder_path =  '../data/all-week1'\n",
    "\n",
    "# Import data from JSON files in the folder\n",
    "inserted_ids = import_data_from_json(db, collection_name, json_folder_path)\n",
    "\n",
    "# Print the inserted document IDs\n",
    "print(\"Inserted IDs:\", inserted_ids)\n",
    "\n",
    "# Close the MongoDB connection\n",
    "client.close()\n"
   ]
  },
  {
   "cell_type": "code",
   "execution_count": null,
   "id": "0597843b",
   "metadata": {},
   "outputs": [],
   "source": []
  }
 ],
 "metadata": {
  "kernelspec": {
   "display_name": "Python 3 (ipykernel)",
   "language": "python",
   "name": "python3"
  },
  "language_info": {
   "codemirror_mode": {
    "name": "ipython",
    "version": 3
   },
   "file_extension": ".py",
   "mimetype": "text/x-python",
   "name": "python",
   "nbconvert_exporter": "python",
   "pygments_lexer": "ipython3",
   "version": "3.11.5"
  }
 },
 "nbformat": 4,
 "nbformat_minor": 5
}
